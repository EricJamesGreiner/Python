{
 "cells": [
  {
   "cell_type": "code",
   "execution_count": 94,
   "id": "838722bd-a6c9-4452-bab4-10e055e32085",
   "metadata": {},
   "outputs": [],
   "source": [
    "import math"
   ]
  },
  {
   "cell_type": "code",
   "execution_count": 95,
   "id": "6da4c41d-3d4c-4158-b3ba-60ab6742bc6c",
   "metadata": {},
   "outputs": [],
   "source": [
    "#Task 1: Descriptive Statistics Functions"
   ]
  },
  {
   "cell_type": "code",
   "execution_count": 96,
   "id": "243a1fd2-3896-4f01-977c-8bbe3fa634f2",
   "metadata": {},
   "outputs": [],
   "source": [
    "L = [5,3,4]\n",
    "F = [1,2,6]"
   ]
  },
  {
   "cell_type": "code",
   "execution_count": 250,
   "id": "39a91256-a23c-443a-8e14-122fb88c8d00",
   "metadata": {},
   "outputs": [
    {
     "name": "stdout",
     "output_type": "stream",
     "text": [
      "The sum is: 12\n"
     ]
    }
   ],
   "source": [
    "#sum of values\n",
    "def sumList(L):\n",
    "    Lsum = 0\n",
    "    for i in L:\n",
    "        Lsum = Lsum + i\n",
    "    return Lsum\n",
    "print(\"The sum is:\", sumList(L))"
   ]
  },
  {
   "cell_type": "code",
   "execution_count": 251,
   "id": "8e70cb0a-74a7-4068-aa7c-a1a928cbcf49",
   "metadata": {},
   "outputs": [
    {
     "name": "stdout",
     "output_type": "stream",
     "text": [
      "The minimum value is: 3\n"
     ]
    }
   ],
   "source": [
    "#minimum value\n",
    "def minList(L):\n",
    "    Lmin = L[0]\n",
    "    for i in L[0:]:\n",
    "        if i < Lmin:\n",
    "            Lmin = i\n",
    "    return Lmin\n",
    "print(\"The minimum value is:\", minList(L))"
   ]
  },
  {
   "cell_type": "code",
   "execution_count": 252,
   "id": "72cff4a9-e26a-4d59-bb87-f4c0afaa1711",
   "metadata": {},
   "outputs": [
    {
     "name": "stdout",
     "output_type": "stream",
     "text": [
      "The maximum value is: 5\n"
     ]
    }
   ],
   "source": [
    "#maximum value\n",
    "def maxList(L):\n",
    "    Lmax = L[0]\n",
    "    for i in L[0:]:\n",
    "        if i > Lmax:\n",
    "            Lmax = i\n",
    "    return Lmax\n",
    "print(\"The maximum value is:\", maxList(L))"
   ]
  },
  {
   "cell_type": "code",
   "execution_count": 253,
   "id": "bb3b1708-f873-454e-861b-cb89181ec062",
   "metadata": {},
   "outputs": [
    {
     "name": "stdout",
     "output_type": "stream",
     "text": [
      "The range is: 2\n"
     ]
    }
   ],
   "source": [
    "#range of values\n",
    "def rangeList(L):\n",
    "    Lrange = maxList(L) - minList(L)\n",
    "    return Lrange\n",
    "print(\"The range is:\", rangeList(L))"
   ]
  },
  {
   "cell_type": "code",
   "execution_count": 254,
   "id": "e6056080-ed59-4fb6-8cbd-c5c108ce2f83",
   "metadata": {},
   "outputs": [
    {
     "name": "stdout",
     "output_type": "stream",
     "text": [
      "The average is: 4.0\n"
     ]
    }
   ],
   "source": [
    "#average of values\n",
    "def muList(L):\n",
    "    Lavg = sumList(L) / len(L)\n",
    "    return Lavg\n",
    "print(\"The average is:\", muList(L))"
   ]
  },
  {
   "cell_type": "code",
   "execution_count": 255,
   "id": "81ea2ca1-c02d-4e80-9aec-ee5ad7a51866",
   "metadata": {},
   "outputs": [
    {
     "name": "stdout",
     "output_type": "stream",
     "text": [
      "The median is: 4\n"
     ]
    }
   ],
   "source": [
    "#median of values\n",
    "def medianList(L):\n",
    "    L.sort()\n",
    "    if len(L)%2==0:\n",
    "        Lmedian = L[int(len(L))/2] + L[int(len(L)/2+1)]/2\n",
    "    if len(L)%2==1:\n",
    "        Lmedian = L[int(len(L)/2)]\n",
    "    return Lmedian \n",
    "print(\"The median is:\", medianList(L))"
   ]
  },
  {
   "cell_type": "code",
   "execution_count": 256,
   "id": "8d1c517e-a159-4879-8939-f1148605a93b",
   "metadata": {},
   "outputs": [
    {
     "name": "stdout",
     "output_type": "stream",
     "text": [
      "The mode is: 3\n"
     ]
    }
   ],
   "source": [
    "#mode of values\n",
    "def modeList(L):\n",
    "    Lmode = max(L, key = L.count)\n",
    "    return Lmode\n",
    "print(\"The mode is:\", modeList(L))"
   ]
  },
  {
   "cell_type": "code",
   "execution_count": 257,
   "id": "8469143c-9af1-482a-ba5c-b8dc3bab7cca",
   "metadata": {},
   "outputs": [
    {
     "name": "stdout",
     "output_type": "stream",
     "text": [
      "The population variance is: 0.6666666666666666\n",
      "The sample variance is: 1.0\n"
     ]
    }
   ],
   "source": [
    "#population variance\n",
    "def sigma2List(L):\n",
    "    n = len(L)\n",
    "    return sum((x-muList(L))** 2 for x in L)/n\n",
    "print(\"The population variance is:\", sigma2List(L))\n",
    "\n",
    "def sigma2List(L, ddof=0):\n",
    "    n = len(L)\n",
    "    return sum((x-muList(L))** 2 for x in L)/(n-ddof)\n",
    "print(\"The sample variance is:\", sigma2List(L,ddof=1))\n"
   ]
  },
  {
   "cell_type": "code",
   "execution_count": 258,
   "id": "bec0af53-4231-4956-b709-325f03b8b0ff",
   "metadata": {},
   "outputs": [
    {
     "name": "stdout",
     "output_type": "stream",
     "text": [
      "The population standard deviation is: 0.816496580927726\n",
      "The sample standard deviation is: 1.0\n"
     ]
    }
   ],
   "source": [
    "#standard deviation\n",
    "def sigmaList(L):\n",
    "    var = sigma2List(L)\n",
    "    std_dev = math.sqrt(var)\n",
    "    return std_dev\n",
    "print(\"The population standard deviation is:\", sigmaList(L))\n",
    "\n",
    "def sigmaList(L,ddof=0):\n",
    "    return math.sqrt(sigma2List(L,ddof))\n",
    "print(\"The sample standard deviation is:\", sigmaList(L,ddof=1))"
   ]
  },
  {
   "cell_type": "code",
   "execution_count": null,
   "id": "86b55eb4-0f2d-42f6-b01e-124433636ac9",
   "metadata": {},
   "outputs": [],
   "source": [
    "#Task 2: Statistical Analysis Function"
   ]
  },
  {
   "cell_type": "code",
   "execution_count": 601,
   "id": "b17f7b83-5ac0-48c1-8498-84f16aa85de8",
   "metadata": {},
   "outputs": [
    {
     "name": "stdout",
     "output_type": "stream",
     "text": [
      "The sum is: 12\n",
      "The minimum value is: 3\n",
      "The maximum value is: 5\n",
      "The range is: 2\n",
      "The average is: 4.0\n",
      "The median is: 4\n",
      "The mode is: 3\n",
      "The population variance is: 0.6666666666666666\n",
      "The sample variance is: 1.0\n",
      "The population standard deviation is: 0.816496580927726\n",
      "The sample standard deviation is: 1.0\n"
     ]
    }
   ],
   "source": [
    "L = [5,3,4]\n",
    "F = [1,2,6]\n",
    "#descriptive statistic summary\n",
    "print(\"The sum is:\", sumList(L))\n",
    "print(\"The minimum value is:\", minList(L))\n",
    "print(\"The maximum value is:\", maxList(L))\n",
    "print(\"The range is:\", rangeList(L))\n",
    "print(\"The average is:\", muList(L))\n",
    "print(\"The median is:\", medianList(L))\n",
    "print(\"The mode is:\", modeList(L))\n",
    "print(\"The population variance is:\", sigma2List(L))\n",
    "print(\"The sample variance is:\", sigma2List(L,ddof=1))\n",
    "print(\"The population standard deviation is:\", sigmaList(L))\n",
    "print(\"The sample standard deviation is:\", sigmaList(L,ddof=1))\n"
   ]
  },
  {
   "cell_type": "code",
   "execution_count": null,
   "id": "cc0fe9aa-3bca-48f1-b76e-2459a030ed5a",
   "metadata": {},
   "outputs": [],
   "source": [
    "#Task 3: Data File IO Function"
   ]
  },
  {
   "cell_type": "code",
   "execution_count": 646,
   "id": "f1efaeb5-5d29-43fd-9fd3-11388c3e343c",
   "metadata": {},
   "outputs": [
    {
     "name": "stdout",
     "output_type": "stream",
     "text": [
      "[['Yellow', 'Heavy Plastic', 'Heavy Duty', '20064.0'], ['Olive', 'Thick Paper', 'Standard', '1104.0'], ['Black', 'Taped Cardboard', 'Reinforced', '1755.0'], ['Black', 'Taped Cardboard', 'Reinforced', '1296.0'], ['Olive', 'Cardboard', 'Standard', '770.0'], ['Black', 'Heavy Plastic', 'Heavy Duty', '22440.0'], ['Green', 'Taped Cardboard', 'Reinforced', '1344.0'], ['Tan', 'Heavy Plastic', 'Heavy Duty', '17952.0'], ['Yellow', 'Heavy Plastic', 'Heavy Duty', '28152.0'], ['Brown', 'Cardboard', 'Standard', '960.0'], ['Black', 'Taped Cardboard', 'Reinforced', '1890.0'], ['Yellow', 'Metal', 'Heavy Duty', '48384.0'], ['Green', 'Plastic', 'Reinforced', '2116.8'], ['Yellow', 'Heavy Plastic', 'Heavy Duty', '19278.0'], ['Tan', 'Metal', 'Heavy Duty', '23040.0'], ['Black', 'Plastic', 'Reinforced', '2352.0'], ['Black', 'Heavy Plastic', 'Heavy Duty', '25992.0'], ['Brown', 'Cardboard', 'Standard', '900.0'], ['Yellow', 'Heavy Plastic', 'Heavy Duty', '21384.0'], ['Black', 'Taped Cardboard', 'Reinforced', '1440.0']]\n"
     ]
    }
   ],
   "source": [
    "#read data file\n",
    "import csv\n",
    "\n",
    "def readCSV(fn,headers):\n",
    "    with open(fn,newline='\\n') as csvfile:\n",
    "        reader = csv.DictReader(csvfile)\n",
    "        NL = []\n",
    "        for row in reader:\n",
    "            RL = []\n",
    "            for i in headers:\n",
    "                RL.append(row[i])\n",
    "            NL.append(RL)\n",
    "    return NL\n",
    "\n",
    "datalist = readCSV('ShippingBoxes.csv',['Color','Material','Box_Type','Cost'])\n",
    "print(datalist)\n",
    "                           "
   ]
  },
  {
   "cell_type": "code",
   "execution_count": null,
   "id": "d7b4d99a-3820-4bc1-993e-bfa3da87717b",
   "metadata": {},
   "outputs": [],
   "source": [
    "#Task 4: Vector Manipulation Functions"
   ]
  },
  {
   "cell_type": "code",
   "execution_count": 359,
   "id": "4ad24dfd-3345-4ea3-a58c-8f069682dc98",
   "metadata": {},
   "outputs": [
    {
     "name": "stdout",
     "output_type": "stream",
     "text": [
      "The sum is: [6, 5, 10]\n"
     ]
    }
   ],
   "source": [
    "#add vectors\n",
    "def addVectors(V1,V2):\n",
    "    sumVector = []\n",
    "    i = 0\n",
    "    while i < len(V1):\n",
    "        sumVector.append(V1[i] + V2[i])\n",
    "        i += 1\n",
    "    return sumVector\n",
    "print(\"The sum is:\", addVectors(vectorA,vectorB))"
   ]
  },
  {
   "cell_type": "code",
   "execution_count": 360,
   "id": "49821960-4000-4d44-be37-deff91d50d28",
   "metadata": {},
   "outputs": [
    {
     "name": "stdout",
     "output_type": "stream",
     "text": [
      "The difference is: [4, 1, -2]\n"
     ]
    }
   ],
   "source": [
    "#subtract vectors\n",
    "def subtractVectors(V1,V2):\n",
    "    diffVector = []\n",
    "    i = 0\n",
    "    while i < len(V1):\n",
    "        diffVector.append(V1[i] - V2[i])\n",
    "        i += 1\n",
    "    return diffVector\n",
    "print(\"The difference is:\", subtractVectors(vectorA,vectorB))"
   ]
  },
  {
   "cell_type": "code",
   "execution_count": 361,
   "id": "4f308280-2df2-4720-a29b-ffbba9d23185",
   "metadata": {},
   "outputs": [
    {
     "name": "stdout",
     "output_type": "stream",
     "text": [
      "The scale is: ([25, 15, 20], [15, 9, 12], [20, 12, 16])\n"
     ]
    }
   ],
   "source": [
    "#scale value\n",
    "def scaleVector(V1):\n",
    "    scalar1 = [value * 5 for value in V1]\n",
    "    scalar2 = [value * 3 for value in V1]\n",
    "    scalar3 = [value * 4 for value in V1]\n",
    "    return scalar1, scalar2, scalar3\n",
    "print(\"The scale is:\", scaleVector(vectorA))\n",
    "  "
   ]
  },
  {
   "cell_type": "code",
   "execution_count": 263,
   "id": "bc6a9ecc-df42-4525-8381-2d6e88fcbc93",
   "metadata": {},
   "outputs": [
    {
     "name": "stdout",
     "output_type": "stream",
     "text": [
      "The norm is: [1.0, 0.0, 0.5]\n"
     ]
    }
   ],
   "source": [
    "L = [5,3,4]\n",
    "F = [1,2,6]\n",
    "#normalize vector\n",
    "def normalizeList(L):\n",
    "    norm_list = list()\n",
    "    for value in L:\n",
    "        tmp = (value - minList(L)) / (maxList(L) - minList(L))\n",
    "        norm_list.append(tmp)\n",
    "    return norm_list\n",
    "print(\"The norm is:\",normalizeList(L))  "
   ]
  },
  {
   "cell_type": "code",
   "execution_count": 554,
   "id": "4cc957c7-945f-48b2-85fa-8fe46370f1e8",
   "metadata": {},
   "outputs": [
    {
     "name": "stdout",
     "output_type": "stream",
     "text": [
      "The Z-Score is: 0.10102051443364424\n"
     ]
    }
   ],
   "source": [
    "L = [5,3,4]\n",
    "F = [1,2,6]\n",
    "#zscore vector\n",
    "def z_score(L):\n",
    "    zscore1 = L[0] - muList(L) / sigmaList(L)\n",
    "    return zscore1\n",
    "print(\"The Z-Score is:\", z_score(L))"
   ]
  },
  {
   "cell_type": "code",
   "execution_count": 354,
   "id": "f9360e53-b535-452a-b21f-b28721a3efc5",
   "metadata": {},
   "outputs": [
    {
     "name": "stdout",
     "output_type": "stream",
     "text": [
      "The dot product is: 35\n"
     ]
    }
   ],
   "source": [
    "#dot product\n",
    "def dotProduct(V1,V2):\n",
    "    dp = 0\n",
    "    for i in range(len(L)):\n",
    "        dp += (L[i]*F[i])\n",
    "    return dp\n",
    "print(\"The dot product is:\",dotProduct(vectorA,vectorB))"
   ]
  },
  {
   "cell_type": "code",
   "execution_count": 596,
   "id": "e6d36ef5-36d5-45ce-bb00-23c721931979",
   "metadata": {},
   "outputs": [
    {
     "name": "stdout",
     "output_type": "stream",
     "text": [
      "The magnitude is: 50\n"
     ]
    }
   ],
   "source": [
    "#magnitude\n",
    "def magVector(V):\n",
    "    mag = 0\n",
    "    for i in V:\n",
    "        mag += i**2\n",
    "    return mag\n",
    "print(\"The magnitude is:\", magVector(vectorA))"
   ]
  },
  {
   "cell_type": "code",
   "execution_count": null,
   "id": "3d4d1810-7792-4362-a02a-cfce1e44f1f3",
   "metadata": {},
   "outputs": [],
   "source": [
    "#Task 5: Matrix Manipulation Functions"
   ]
  },
  {
   "cell_type": "code",
   "execution_count": null,
   "id": "73ddfa59-150d-4bfb-96b7-684cc6ab7f69",
   "metadata": {},
   "outputs": [],
   "source": [
    "matrixA = [[1,2,3], [4,5,6], [7,8,9]]\n",
    "matrixB = [[2,4,6],[1,3,5],[9,0,1]]"
   ]
  },
  {
   "cell_type": "code",
   "execution_count": 403,
   "id": "689e4825-1004-4e6d-8fb3-fb1ce1f015ab",
   "metadata": {},
   "outputs": [
    {
     "name": "stdout",
     "output_type": "stream",
     "text": [
      "1 2 3 \n",
      "4 5 6 \n",
      "7 8 9 \n"
     ]
    }
   ],
   "source": [
    "#display matrix\n",
    "def displayMatrix(M1):\n",
    "    for i in A:\n",
    "        for j in i:\n",
    "            print(j,end=' ')\n",
    "        print()\n",
    "printMatrix(matrixA)"
   ]
  },
  {
   "cell_type": "code",
   "execution_count": 414,
   "id": "2433297b-54ac-4d40-96c8-2130bdf62050",
   "metadata": {},
   "outputs": [
    {
     "name": "stdout",
     "output_type": "stream",
     "text": [
      "[1, 4, 7]\n"
     ]
    }
   ],
   "source": [
    "#get column\n",
    "def getColumn(M1,col):\n",
    "    return [k[col] for k in M1]\n",
    "print(getColumn(matrixA,0))\n",
    "      "
   ]
  },
  {
   "cell_type": "code",
   "execution_count": 503,
   "id": "d84dbb93-3bc7-4d02-a3f8-7aea82b0f764",
   "metadata": {},
   "outputs": [
    {
     "name": "stdout",
     "output_type": "stream",
     "text": [
      "[1, 2, 3]\n"
     ]
    }
   ],
   "source": [
    "#get row\n",
    "def getRow(M1, i, j):\n",
    "    nrow = M1[j]\n",
    "    return nrow\n",
    "print(getRow(matrixA,i,j))"
   ]
  },
  {
   "cell_type": "code",
   "execution_count": 383,
   "id": "3852feff-faa5-43e5-91d1-62c50f17b626",
   "metadata": {},
   "outputs": [
    {
     "name": "stdout",
     "output_type": "stream",
     "text": [
      "The main diagonal is: [1, 5, 9]\n"
     ]
    }
   ],
   "source": [
    "#get main diagonal\n",
    "def getMainDiagonal(M1):\n",
    "    diag = [M1[i][i] for i in range(len(M1))]\n",
    "    return diag\n",
    "print(\"The main diagonal is:\",getMainDiagonal(matrixA))   \n",
    "    "
   ]
  },
  {
   "cell_type": "code",
   "execution_count": 388,
   "id": "328da346-0333-4d5a-b986-72aa9ebf92f2",
   "metadata": {},
   "outputs": [
    {
     "name": "stdout",
     "output_type": "stream",
     "text": [
      "2 6 10 \n",
      "6 10 14 \n",
      "10 14 18 \n"
     ]
    }
   ],
   "source": [
    "#add matrices\n",
    "def addMatrices(M1,M2):\n",
    "    M = []\n",
    "    i = 0\n",
    "    while i < len(M1):\n",
    "        j = 0\n",
    "        V = []\n",
    "        while j < len(M1[i]):\n",
    "            value = M1[i][j] + M2[i][j]\n",
    "            V.append(value)\n",
    "            j += 1\n",
    "        M.append(V)\n",
    "        i += 1\n",
    "    return M\n",
    "printMatrix(addMatrices(matrixA,matrixB))"
   ]
  },
  {
   "cell_type": "code",
   "execution_count": 390,
   "id": "99192fda-c7b4-4fa4-8571-b87f362de376",
   "metadata": {},
   "outputs": [
    {
     "name": "stdout",
     "output_type": "stream",
     "text": [
      "0 -2 -4 \n",
      "2 0 -2 \n",
      "4 2 0 \n"
     ]
    }
   ],
   "source": [
    "#subtract matrices\n",
    "def subtractMatrices(M1, M2):\n",
    "    M = []\n",
    "    i = 0\n",
    "    while i < len(M1):\n",
    "        j = 0\n",
    "        V = []\n",
    "        while j < len(M1[i]):\n",
    "            value = M1[i][j] - M2[i][j]\n",
    "            V.append(value)\n",
    "            j += 1\n",
    "        M.append(V)\n",
    "        i += 1\n",
    "    return M\n",
    "printMatrix(subtractMatrices(matrixA,matrixB))"
   ]
  },
  {
   "cell_type": "code",
   "execution_count": 508,
   "id": "e9d9b1d6-dca5-4684-b4c3-058ce521fad3",
   "metadata": {},
   "outputs": [
    {
     "name": "stdout",
     "output_type": "stream",
     "text": [
      "[[21, 24, 27], [12, 15, 18], [3, 6, 9]]\n"
     ]
    }
   ],
   "source": [
    "def scaleMatrix(M1, scalar):\n",
    "    a = []\n",
    "    for i in range(3):\n",
    "        row = []\n",
    "        for j in range(3):\n",
    "            e = M1[i][j]*scalar\n",
    "            row.append(e)\n",
    "        a.append(row)\n",
    "    return a\n",
    "print(scaleMatrix(matrixA, 3))"
   ]
  },
  {
   "cell_type": "code",
   "execution_count": 469,
   "id": "fcccd58e-e2d9-4737-b215-fb1e081dfd80",
   "metadata": {},
   "outputs": [
    {
     "name": "stdout",
     "output_type": "stream",
     "text": [
      "7 4 1 \n",
      "8 5 2 \n",
      "9 6 3 \n"
     ]
    }
   ],
   "source": [
    "#transpose matrix\n",
    "def transposeMatrix(M1):\n",
    "    trs = [[row[i] for row in M1] for i in range(len(M1[0]))]\n",
    "    return trs\n",
    "printMatrix(transposeMatrix(matrixA))\n"
   ]
  },
  {
   "cell_type": "code",
   "execution_count": 499,
   "id": "a0b61881-2cb2-40e5-b738-7b113f7f4253",
   "metadata": {},
   "outputs": [
    {
     "name": "stdout",
     "output_type": "stream",
     "text": [
      "The trace is: 15\n"
     ]
    }
   ],
   "source": [
    "#trace matrix\n",
    "import math\n",
    "def TraceMatrix(matrixA):\n",
    "    rows = len(matrixA)\n",
    "    cols = len(matrixA[0])\n",
    "    trace = 0\n",
    "    for n in range(rows):\n",
    "        for m in range(cols):\n",
    "            if(n==m):\n",
    "                   trace = trace+matrixA[n][m]\n",
    "    return trace\n",
    "print(\"The trace is:\",TraceMatrix(matrixA))\n"
   ]
  },
  {
   "cell_type": "code",
   "execution_count": 367,
   "id": "082a630e-662e-4f23-b23a-ac4f15de9473",
   "metadata": {},
   "outputs": [
    {
     "name": "stdout",
     "output_type": "stream",
     "text": [
      "1 2 3 4 5 6 7 8 9 \n"
     ]
    }
   ],
   "source": [
    "#matrix to vector\n",
    "def matrixVector(M):\n",
    "    V = []\n",
    "    for i in matrixA:\n",
    "        for j in i:\n",
    "            V.append(j)\n",
    "    return V\n",
    "printVector(matrixVector(matrixA))"
   ]
  },
  {
   "cell_type": "code",
   "execution_count": null,
   "id": "5689fc08-e4e7-4f67-9a0f-0b7e575527fa",
   "metadata": {},
   "outputs": [],
   "source": [
    "Task 6: Sampling Functions"
   ]
  },
  {
   "cell_type": "code",
   "execution_count": 524,
   "id": "84f701d0-2082-4adf-9410-c2de81c7d731",
   "metadata": {},
   "outputs": [
    {
     "name": "stdout",
     "output_type": "stream",
     "text": [
      "[4, 5, 6]\n"
     ]
    }
   ],
   "source": [
    "import random as R\n",
    "#random sample\n",
    "def randomSample(M1):\n",
    "    rand = R.sample(M1,3)\n",
    "    for i in rand:\n",
    "        return i "
   ]
  },
  {
   "cell_type": "code",
   "execution_count": 590,
   "id": "13867752-a36a-4ad6-84d8-31954bf8218f",
   "metadata": {},
   "outputs": [],
   "source": [
    "#criteria sample\n",
    "def criteriaSample(D,criteria,criteriaIndex):\n",
    "    L = []\n",
    "    for d in D:\n",
    "        if d[criteriaIndex] == criteria:\n",
    "            L.append(d)\n",
    "    return L\n",
    "\n",
    "S = criteriaSample(datalist,'Blue',5)\n",
    "\n",
    "for i in S:\n",
    "    print(i)"
   ]
  },
  {
   "cell_type": "code",
   "execution_count": null,
   "id": "62b191f5-2361-461f-aafd-311b8d92fba3",
   "metadata": {},
   "outputs": [],
   "source": [
    "Task 7: Synthetic Data Generator"
   ]
  },
  {
   "cell_type": "code",
   "execution_count": 635,
   "id": "b5c0eac7-17de-4eff-bb4f-b139ad43390c",
   "metadata": {},
   "outputs": [
    {
     "name": "stdout",
     "output_type": "stream",
     "text": [
      "ID: EGreiner\n",
      "Box Type: Reinforced\n",
      "Length: 14\n",
      "Width: 9\n",
      "Height: 9\n",
      "Area: 1134\n",
      "Material: Taped Cardboard\n",
      "Color: Green\n",
      "Cost: 1701.0\n",
      "Water Tight: No\n",
      "Water Resistant: Yes\n"
     ]
    }
   ],
   "source": [
    "from dataclasses import dataclass\n",
    "import random as R\n",
    "\n",
    "@dataclass\n",
    "class ShippingBoxes:\n",
    "    serialNumber: str\n",
    "    \n",
    "    def generateType(self) -> None:\n",
    "        T = ['Standard','Reinforced','Heavy Duty']\n",
    "        self.type = R.choice(T)\n",
    "    \n",
    "    def generateLength(self) -> None:\n",
    "        Sl = [10,11,12]; Rl = [12,13,14]; HDl = [16,17,18,19,20,21,22,23,24]\n",
    "        if self.type == 'Standard':\n",
    "            self.length = R.choice(Sl)\n",
    "        if self.type == 'Reinforced':\n",
    "            self.length = R.choice(Rl)\n",
    "        if self.type == 'Heavy Duty':\n",
    "            self.length = R.choice(HDl)\n",
    "            \n",
    "    def generateWidth(self) -> None:\n",
    "        Sw = [6,7,8]; Rw = [8,9,10]; HDw = [12,13,14,15,16,17,18,19,20,21,22,23,24]\n",
    "        if self.type == 'Standard':\n",
    "            self.width = R.choice(Sw)\n",
    "        if self.type == 'Reinforced':\n",
    "            self.width = R.choice(Rw)\n",
    "        if self.type == 'Heavy Duty':\n",
    "            self.width = R.choice(HDw)\n",
    "            \n",
    "    def generateHeight(self) -> None:\n",
    "        Sh = [8,9,10]; Rh = [8,9,10]; HDh = [12,13,14,15,16,17,18,19,20,21,22,23,24]\n",
    "        if self.type == 'Standard':\n",
    "            self.height = R.choice(Sh)\n",
    "        if self.type == 'Reinforced':\n",
    "            self.height = R.choice(Rh)\n",
    "        if self.type == 'Heavy Duty':\n",
    "            self.height = R.choice(HDh)\n",
    "            \n",
    "    def generateArea(self) -> None:\n",
    "        if self.type == 'Standard' or self.type == 'Reinforced' or self.type == 'Heavy Duty':\n",
    "            self.area = self.length*self.width*self.height\n",
    "            \n",
    "    def generateMaterial(self) -> None:\n",
    "        Sm = ['Cardboard','Thick Paper'];Rm = ['Taped Cardboard','Plastic'];HDm = ['Heavy Plastic','Metal']\n",
    "        if self.type == 'Standard':\n",
    "            self.material = R.choice(Sm)\n",
    "        if self.type == 'Reinforced':\n",
    "            self.material = R.choice(Rm)\n",
    "        if self.type == 'Heavy Duty':\n",
    "            self.material = R.choice(HDm)\n",
    "    \n",
    "    def generateColor(self) -> None:\n",
    "        Sc = ['Brown','Olive'];Rc = ['Green','Black'];HDc = ['Yellow','Tan','Black']\n",
    "        if self.type == 'Standard':\n",
    "            self.color = R.choice(Sc)\n",
    "        if self.type == 'Reinforced':\n",
    "            self.color = R.choice(Rc)\n",
    "        if self.type == 'Heavy Duty':\n",
    "            self.color = R.choice(HDc)\n",
    "    \n",
    "    def generateCost(self) -> None:\n",
    "        if self.type == 'Standard' and self.material == 'Thick Paper':\n",
    "            self.cost = 1.15 * self.area\n",
    "        if self.type == 'Standard' and self.material == 'Cardboard':\n",
    "            self.cost = 1.25 * self.area\n",
    "        if self.type == 'Reinforced' and self.material == 'Taped Cardboard':\n",
    "            self.cost = 1.50 * self.area\n",
    "        if self.type == 'Reinforced' and self.material == 'Plastic':\n",
    "            self.cost = 2.10 * self.area\n",
    "        if self.type == 'Heavy Duty' and self.material == 'Heavy Plastic':\n",
    "            self.cost = 3.00 * self.area\n",
    "        if self.type == 'Heavy Duty' and self.material == 'Metal':\n",
    "            self.cost = 4.00 * self.area\n",
    "            \n",
    "    def generateWatertight(self) -> None:\n",
    "        Ywt = ['Yes'];Nwt = ['No']\n",
    "        if self.type == 'Standard':\n",
    "            self.watertight = R.choice(Nwt)\n",
    "        if self.type == 'Reinforced':\n",
    "            self.watertight = R.choice(Nwt)\n",
    "        if self.type == 'Heavy Duty':\n",
    "            self.watertight = R.choice(Ywt)\n",
    "        \n",
    "    def generateWaterresistant(self) -> None:\n",
    "        Ywr = ['Yes'];Nwr = ['No']\n",
    "        if self.type == 'Standard':\n",
    "            self.waterres = R.choice(Nwr)\n",
    "        if self.type == 'Reinforced':\n",
    "            self.waterres = R.choice(Ywr)\n",
    "        if self.type == 'Heavy Duty':\n",
    "            self.waterres = R.choice(Ywr)\n",
    "        \n",
    "    def selfGenerate(self) -> None:\n",
    "        F = [self. generateType,self. generateLength,self. generateWidth,self. generateHeight,self. generateArea,self. generateMaterial,self. generateColor,self. generateCost,self. generateWatertight,self. generateWaterresistant]\n",
    "        for i in F:\n",
    "            i()\n",
    "            \n",
    "    def displayWidget(self) -> None:\n",
    "        print('ID: ' + self.serialNumber)\n",
    "        print('Box Type: ' + self.type)\n",
    "        print('Length: ' + str(self.length))\n",
    "        print('Width: ' + str(self.width))\n",
    "        print('Height: ' + str(self.height))\n",
    "        print('Area: ' + str(self.area))\n",
    "        print('Material: ' + self.material)\n",
    "        print('Color: ' + self.color)\n",
    "        print('Cost: ' + str(self.cost))\n",
    "        print('Water Tight: ' + self.watertight)\n",
    "        print('Water Resistant: ' + self.waterres)\n",
    "\n",
    "B = ShippingBoxes('EGreiner')\n",
    "B.selfGenerate()\n",
    "B.displayWidget()\n"
   ]
  },
  {
   "cell_type": "code",
   "execution_count": null,
   "id": "2b646874-ef37-4fe1-a7d1-d8063defcddc",
   "metadata": {},
   "outputs": [],
   "source": [
    "Task 8: Generate Data"
   ]
  },
  {
   "cell_type": "code",
   "execution_count": 626,
   "id": "b498fb11-0705-4ee0-9b62-cc0a0bb5192a",
   "metadata": {
    "tags": []
   },
   "outputs": [],
   "source": [
    "import csv\n",
    "\n",
    "def widgetGenerator(count,fn):\n",
    "    WL = [w for w in range(count)]\n",
    "    for i in range(count):\n",
    "        WL[i] = ShippingBoxes('B' + str(i))\n",
    "        WL[i].selfGenerate()\n",
    "    \n",
    "    H = ['Serial_Number','Box_Type','Length','Width','Height','Area','Material','Color','Cost','Water_Tight','Water_Resistant']\n",
    "    with open(fn,'w',newline='\\n') as csvfile:\n",
    "        writer = csv.DictWriter(csvfile,fieldnames = H)\n",
    "        writer.writeheader()\n",
    "        for w in WL:\n",
    "            R = {'Serial_Number':w.serialNumber,'Box_Type':w.type,'Length':w.length,'Width':w.width,'Height':w.height,'Area':w.area,'Material':w.material,'Color':w.color,'Cost':w.cost,'Water_Tight':w.watertight,'Water_Resistant':w.waterres}\n",
    "            writer.writerow(R)\n",
    "    print(str(count) + ' have been generated and stored in ' + fn) \n",
    "\n"
   ]
  },
  {
   "cell_type": "code",
   "execution_count": 627,
   "id": "0ed996f9-38a1-4a24-a470-8e9dbf7ef8d8",
   "metadata": {},
   "outputs": [
    {
     "name": "stdout",
     "output_type": "stream",
     "text": [
      "20 have been generated and stored in ShippingBoxes.csv\n"
     ]
    }
   ],
   "source": [
    "widgetGenerator(20,'ShippingBoxes.csv')"
   ]
  },
  {
   "cell_type": "code",
   "execution_count": null,
   "id": "119a8b42-2c79-4bb2-b392-746c1cfcd4af",
   "metadata": {},
   "outputs": [],
   "source": [
    "Task 9: Data Analysis I Script"
   ]
  },
  {
   "cell_type": "code",
   "execution_count": 650,
   "id": "2bd9786d-7f8d-44ad-941d-63363792ebd3",
   "metadata": {},
   "outputs": [],
   "source": []
  },
  {
   "cell_type": "code",
   "execution_count": null,
   "id": "b3e814ca-0355-414b-9b06-93cbe530c0be",
   "metadata": {},
   "outputs": [],
   "source": [
    "Task 10: Data Analysis Visualization"
   ]
  },
  {
   "cell_type": "code",
   "execution_count": null,
   "id": "a91a92b0-9b2d-4fb0-8582-7f001e188543",
   "metadata": {},
   "outputs": [],
   "source": []
  }
 ],
 "metadata": {
  "kernelspec": {
   "display_name": "Python 3 (ipykernel)",
   "language": "python",
   "name": "python3"
  },
  "language_info": {
   "codemirror_mode": {
    "name": "ipython",
    "version": 3
   },
   "file_extension": ".py",
   "mimetype": "text/x-python",
   "name": "python",
   "nbconvert_exporter": "python",
   "pygments_lexer": "ipython3",
   "version": "3.9.12"
  }
 },
 "nbformat": 4,
 "nbformat_minor": 5
}
