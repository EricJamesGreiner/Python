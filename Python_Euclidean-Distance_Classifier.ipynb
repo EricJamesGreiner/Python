{
 "cells": [
  {
   "cell_type": "markdown",
   "metadata": {
    "id": "Lr8KzSTt5eMp",
    "tags": []
   },
   "source": [
    "# Eric Greiner - IS669 - Euclidean-Distance_Classifier\n",
    "\n",
    "# Part I - Synthetic Data Generation"
   ]
  },
  {
   "cell_type": "code",
   "execution_count": null,
   "metadata": {},
   "outputs": [],
   "source": [
    "import random\n",
    "import math\n",
    "import numpy as np\n",
    "from dataclasses import dataclass\n",
    "import matplotlib.pyplot as plt\n",
    "import pandas as pd"
   ]
  },
  {
   "cell_type": "code",
   "execution_count": 61,
   "metadata": {
    "id": "USMf8n6i814j"
   },
   "outputs": [],
   "source": [
    "originalData = pd.read_csv(\"dataSample.csv\")"
   ]
  },
  {
   "cell_type": "code",
   "execution_count": null,
   "metadata": {
    "colab": {
     "base_uri": "https://localhost:8080/",
     "height": 363
    },
    "id": "GT7kfEu59Que",
    "outputId": "556d8472-f31a-473b-d96a-ead5cf8164e6"
   },
   "outputs": [
    {
     "data": {
      "text/html": [
       "<div>\n",
       "<style scoped>\n",
       "    .dataframe tbody tr th:only-of-type {\n",
       "        vertical-align: middle;\n",
       "    }\n",
       "\n",
       "    .dataframe tbody tr th {\n",
       "        vertical-align: top;\n",
       "    }\n",
       "\n",
       "    .dataframe thead th {\n",
       "        text-align: right;\n",
       "    }\n",
       "</style>\n",
       "<table border=\"1\" class=\"dataframe\">\n",
       "  <thead>\n",
       "    <tr style=\"text-align: right;\">\n",
       "      <th></th>\n",
       "      <th>classType</th>\n",
       "      <th>length</th>\n",
       "      <th>beam</th>\n",
       "      <th>draft</th>\n",
       "      <th>pressure</th>\n",
       "      <th>vortex</th>\n",
       "      <th>magnetic</th>\n",
       "      <th>light</th>\n",
       "    </tr>\n",
       "  </thead>\n",
       "  <tbody>\n",
       "    <tr>\n",
       "      <th>0</th>\n",
       "      <td>Yuan</td>\n",
       "      <td>62.08</td>\n",
       "      <td>7.98</td>\n",
       "      <td>5.03</td>\n",
       "      <td>534.56</td>\n",
       "      <td>965.18</td>\n",
       "      <td>17.21</td>\n",
       "      <td>0.94</td>\n",
       "    </tr>\n",
       "    <tr>\n",
       "      <th>1</th>\n",
       "      <td>Yuan</td>\n",
       "      <td>73.72</td>\n",
       "      <td>8.40</td>\n",
       "      <td>6.37</td>\n",
       "      <td>835.25</td>\n",
       "      <td>463.29</td>\n",
       "      <td>15.49</td>\n",
       "      <td>1.06</td>\n",
       "    </tr>\n",
       "    <tr>\n",
       "      <th>2</th>\n",
       "      <td>Yuan</td>\n",
       "      <td>77.60</td>\n",
       "      <td>6.30</td>\n",
       "      <td>6.70</td>\n",
       "      <td>890.93</td>\n",
       "      <td>463.29</td>\n",
       "      <td>17.21</td>\n",
       "      <td>0.56</td>\n",
       "    </tr>\n",
       "    <tr>\n",
       "      <th>3</th>\n",
       "      <td>Yuan</td>\n",
       "      <td>77.60</td>\n",
       "      <td>6.72</td>\n",
       "      <td>5.03</td>\n",
       "      <td>534.56</td>\n",
       "      <td>463.29</td>\n",
       "      <td>13.77</td>\n",
       "      <td>0.56</td>\n",
       "    </tr>\n",
       "    <tr>\n",
       "      <th>4</th>\n",
       "      <td>Yuan</td>\n",
       "      <td>69.84</td>\n",
       "      <td>6.72</td>\n",
       "      <td>5.36</td>\n",
       "      <td>1113.67</td>\n",
       "      <td>965.18</td>\n",
       "      <td>8.26</td>\n",
       "      <td>1.06</td>\n",
       "    </tr>\n",
       "    <tr>\n",
       "      <th>5</th>\n",
       "      <td>Xia</td>\n",
       "      <td>96.00</td>\n",
       "      <td>4.80</td>\n",
       "      <td>6.40</td>\n",
       "      <td>3157.92</td>\n",
       "      <td>1697.28</td>\n",
       "      <td>57.60</td>\n",
       "      <td>14.40</td>\n",
       "    </tr>\n",
       "    <tr>\n",
       "      <th>6</th>\n",
       "      <td>Xia</td>\n",
       "      <td>96.00</td>\n",
       "      <td>8.00</td>\n",
       "      <td>6.00</td>\n",
       "      <td>3508.80</td>\n",
       "      <td>1909.44</td>\n",
       "      <td>51.84</td>\n",
       "      <td>14.40</td>\n",
       "    </tr>\n",
       "    <tr>\n",
       "      <th>7</th>\n",
       "      <td>Xia</td>\n",
       "      <td>57.60</td>\n",
       "      <td>4.80</td>\n",
       "      <td>7.20</td>\n",
       "      <td>3157.92</td>\n",
       "      <td>1909.44</td>\n",
       "      <td>43.20</td>\n",
       "      <td>14.40</td>\n",
       "    </tr>\n",
       "    <tr>\n",
       "      <th>8</th>\n",
       "      <td>Xia</td>\n",
       "      <td>114.00</td>\n",
       "      <td>4.80</td>\n",
       "      <td>7.60</td>\n",
       "      <td>3333.36</td>\n",
       "      <td>1697.28</td>\n",
       "      <td>54.72</td>\n",
       "      <td>17.10</td>\n",
       "    </tr>\n",
       "    <tr>\n",
       "      <th>9</th>\n",
       "      <td>Xia</td>\n",
       "      <td>90.00</td>\n",
       "      <td>9.00</td>\n",
       "      <td>7.60</td>\n",
       "      <td>2631.60</td>\n",
       "      <td>1018.37</td>\n",
       "      <td>43.20</td>\n",
       "      <td>16.20</td>\n",
       "    </tr>\n",
       "  </tbody>\n",
       "</table>\n",
       "</div>"
      ],
      "text/plain": [
       "  classType  length  beam  draft  pressure   vortex  magnetic  light\n",
       "0      Yuan   62.08  7.98   5.03    534.56   965.18     17.21   0.94\n",
       "1      Yuan   73.72  8.40   6.37    835.25   463.29     15.49   1.06\n",
       "2      Yuan   77.60  6.30   6.70    890.93   463.29     17.21   0.56\n",
       "3      Yuan   77.60  6.72   5.03    534.56   463.29     13.77   0.56\n",
       "4      Yuan   69.84  6.72   5.36   1113.67   965.18      8.26   1.06\n",
       "5       Xia   96.00  4.80   6.40   3157.92  1697.28     57.60  14.40\n",
       "6       Xia   96.00  8.00   6.00   3508.80  1909.44     51.84  14.40\n",
       "7       Xia   57.60  4.80   7.20   3157.92  1909.44     43.20  14.40\n",
       "8       Xia  114.00  4.80   7.60   3333.36  1697.28     54.72  17.10\n",
       "9       Xia   90.00  9.00   7.60   2631.60  1018.37     43.20  16.20"
      ]
     },
     "execution_count": 8,
     "metadata": {},
     "output_type": "execute_result"
    }
   ],
   "source": [
    "originalData"
   ]
  },
  {
   "cell_type": "code",
   "execution_count": 3,
   "metadata": {
    "id": "qvt9CxJXThGn"
   },
   "outputs": [],
   "source": [
    "import random\n",
    "from enum import Enum"
   ]
  },
  {
   "cell_type": "code",
   "execution_count": 4,
   "metadata": {
    "id": "f5zXmDGtMNIg"
   },
   "outputs": [],
   "source": [
    "class fileTypes(Enum):\n",
    "  excel = 1\n",
    "  csv=2\n",
    "  json=3\n",
    "  pickle=4\n",
    "\n",
    "class Submarine():\n",
    "  def __init__(self,data,classType,sampleIdentifier):\n",
    "    self.data = data\n",
    "    self.classType=classType\n",
    "    self.generatedData = []\n",
    "    self.sampleIdentifier = sampleIdentifier\n",
    "    \n",
    "  def generate(self,n):\n",
    "    numberOfData = len(self.generatedData)\n",
    "    for j in range(n):\n",
    "      newSample = {\"classType\":self.classType,\"sampleId\":self.sampleIdentifier+\"-\"+str(numberOfData+j+1)}\n",
    "      for i in self.data.columns[1:]:\n",
    "        min = self.data[i].min()\n",
    "        max = self.data[i].max()\n",
    "        mean = self.data[i].mean()\n",
    "        newValue = random.uniform(min,max)+((mean/(max-min)) * random.uniform(0.01,0.1))\n",
    "        newSample[i] = newValue\n",
    "      \n",
    "      self.generatedData.append(newSample)\n",
    "    self.pdData = pd.DataFrame(self.generatedData)\n",
    "  def toVector(self):\n",
    "    \n",
    "    return self.pdData.values\n",
    "  def toShaped(self):\n",
    "    return self.pdData\n",
    "\n",
    "  def store(self,fileName,fileFormat):\n",
    "    if fileFormat==fileTypes.excel:\n",
    "        self.pdData.to_excel(fileName+\".xlsx\")\n",
    "    if fileFormat==fileTypes.csv:\n",
    "        self.pdData.to_csv(fileName+\".csv \")       \n",
    "    if fileFormat==fileTypes.json:\n",
    "        self.pdData.to_json(fileName+\".json \")\n",
    "    if fileFormat==fileTypes.pickle:\n",
    "        self.pdData.to_pickle(fileName+\".pckl \")  \n",
    "\n",
    "class Yuan(Submarine):\n",
    "  def __init__(self,data):\n",
    "    super().__init__(data,\"Yuan\",\"YSN\")\n",
    "\n",
    "class Xia(Submarine):\n",
    "  def __init__(self,data):\n",
    "    super().__init__(data,\"Xia\",\"XSN\")\n"
   ]
  },
  {
   "cell_type": "markdown",
   "metadata": {
    "id": "cOfegJZN5iBg"
   },
   "source": [
    "# Part II - Data Archiving"
   ]
  },
  {
   "cell_type": "code",
   "execution_count": null,
   "metadata": {
    "id": "WhmAQTTjNpMb"
   },
   "outputs": [],
   "source": [
    "originalYuanSamples = originalData[originalData[\"classType\"]==\"Yuan\"]\n",
    "originalXiaSamples = originalData[originalData[\"classType\"]==\"Xia\"]\n",
    "_yuan = Yuan(originalYuanSamples)\n",
    "_xia = Xia(originalXiaSamples)"
   ]
  },
  {
   "cell_type": "code",
   "execution_count": null,
   "metadata": {
    "id": "9WYLloXBX2HB"
   },
   "outputs": [],
   "source": [
    "_yuan.generate(1000)\n",
    "_yuan.toVector()\n",
    "\n",
    "fileName = \"yuan\"\n",
    "\n",
    "_yuan.store(fileName,fileTypes.excel)\n",
    "_yuan.store(fileName,fileTypes.json)\n",
    "_yuan.store(fileName,fileTypes.csv)\n",
    "_yuan.store(fileName,fileTypes.pickle)"
   ]
  },
  {
   "cell_type": "code",
   "execution_count": null,
   "metadata": {
    "id": "04blJJBnbw8t"
   },
   "outputs": [],
   "source": [
    "_xia.generate(1000)\n",
    "_xia.toVector()\n",
    "\n",
    "fileName = \"xia\"\n",
    "\n",
    "_xia.store(fileName,fileTypes.excel)\n",
    "_xia.store(fileName,fileTypes.json)\n",
    "_xia.store(fileName,fileTypes.csv)\n",
    "_xia.store(fileName,fileTypes.pickle)"
   ]
  },
  {
   "cell_type": "markdown",
   "metadata": {
    "id": "E0ED-dtQ5kMB"
   },
   "source": [
    "# Part III - Data Shaping"
   ]
  },
  {
   "cell_type": "code",
   "execution_count": null,
   "metadata": {
    "id": "rlOFcms7dkry"
   },
   "outputs": [],
   "source": [
    "shapedXia = _xia.toShaped()\n",
    "shapedYuan = _yuan.toShaped()"
   ]
  },
  {
   "cell_type": "code",
   "execution_count": null,
   "metadata": {
    "colab": {
     "base_uri": "https://localhost:8080/",
     "height": 424
    },
    "id": "J4hARdmbd0fO",
    "outputId": "de03081d-38d5-44ec-bcd0-24b8c982c86f"
   },
   "outputs": [
    {
     "data": {
      "text/html": [
       "<div>\n",
       "<style scoped>\n",
       "    .dataframe tbody tr th:only-of-type {\n",
       "        vertical-align: middle;\n",
       "    }\n",
       "\n",
       "    .dataframe tbody tr th {\n",
       "        vertical-align: top;\n",
       "    }\n",
       "\n",
       "    .dataframe thead th {\n",
       "        text-align: right;\n",
       "    }\n",
       "</style>\n",
       "<table border=\"1\" class=\"dataframe\">\n",
       "  <thead>\n",
       "    <tr style=\"text-align: right;\">\n",
       "      <th></th>\n",
       "      <th>classType</th>\n",
       "      <th>sampleId</th>\n",
       "      <th>length</th>\n",
       "      <th>beam</th>\n",
       "      <th>draft</th>\n",
       "      <th>pressure</th>\n",
       "      <th>vortex</th>\n",
       "      <th>magnetic</th>\n",
       "      <th>light</th>\n",
       "    </tr>\n",
       "  </thead>\n",
       "  <tbody>\n",
       "    <tr>\n",
       "      <th>0</th>\n",
       "      <td>Xia</td>\n",
       "      <td>XSN-1</td>\n",
       "      <td>114.026094</td>\n",
       "      <td>6.871377</td>\n",
       "      <td>6.903848</td>\n",
       "      <td>2784.376251</td>\n",
       "      <td>1745.055845</td>\n",
       "      <td>54.449545</td>\n",
       "      <td>15.442677</td>\n",
       "    </tr>\n",
       "    <tr>\n",
       "      <th>1</th>\n",
       "      <td>Xia</td>\n",
       "      <td>XSN-2</td>\n",
       "      <td>111.047326</td>\n",
       "      <td>7.782371</td>\n",
       "      <td>7.737516</td>\n",
       "      <td>2884.946240</td>\n",
       "      <td>1683.376225</td>\n",
       "      <td>50.831600</td>\n",
       "      <td>15.722718</td>\n",
       "    </tr>\n",
       "    <tr>\n",
       "      <th>2</th>\n",
       "      <td>Xia</td>\n",
       "      <td>XSN-3</td>\n",
       "      <td>95.926057</td>\n",
       "      <td>8.443556</td>\n",
       "      <td>6.582085</td>\n",
       "      <td>2646.039028</td>\n",
       "      <td>1344.829601</td>\n",
       "      <td>48.562252</td>\n",
       "      <td>15.721797</td>\n",
       "    </tr>\n",
       "    <tr>\n",
       "      <th>3</th>\n",
       "      <td>Xia</td>\n",
       "      <td>XSN-4</td>\n",
       "      <td>91.133894</td>\n",
       "      <td>5.687423</td>\n",
       "      <td>6.714445</td>\n",
       "      <td>3005.319540</td>\n",
       "      <td>1873.275953</td>\n",
       "      <td>50.401723</td>\n",
       "      <td>15.246061</td>\n",
       "    </tr>\n",
       "    <tr>\n",
       "      <th>4</th>\n",
       "      <td>Xia</td>\n",
       "      <td>XSN-5</td>\n",
       "      <td>110.662289</td>\n",
       "      <td>8.885017</td>\n",
       "      <td>7.888344</td>\n",
       "      <td>3482.006037</td>\n",
       "      <td>1280.799067</td>\n",
       "      <td>52.088571</td>\n",
       "      <td>16.084204</td>\n",
       "    </tr>\n",
       "  </tbody>\n",
       "</table>\n",
       "</div>"
      ],
      "text/plain": [
       "  classType sampleId      length      beam     draft     pressure  \\\n",
       "0       Xia    XSN-1  114.026094  6.871377  6.903848  2784.376251   \n",
       "1       Xia    XSN-2  111.047326  7.782371  7.737516  2884.946240   \n",
       "2       Xia    XSN-3   95.926057  8.443556  6.582085  2646.039028   \n",
       "3       Xia    XSN-4   91.133894  5.687423  6.714445  3005.319540   \n",
       "4       Xia    XSN-5  110.662289  8.885017  7.888344  3482.006037   \n",
       "\n",
       "        vortex   magnetic      light  \n",
       "0  1745.055845  54.449545  15.442677  \n",
       "1  1683.376225  50.831600  15.722718  \n",
       "2  1344.829601  48.562252  15.721797  \n",
       "3  1873.275953  50.401723  15.246061  \n",
       "4  1280.799067  52.088571  16.084204  "
      ]
     },
     "execution_count": 15,
     "metadata": {},
     "output_type": "execute_result"
    }
   ],
   "source": [
    "shapedXia.head()"
   ]
  },
  {
   "cell_type": "code",
   "execution_count": null,
   "metadata": {
    "colab": {
     "base_uri": "https://localhost:8080/",
     "height": 300
    },
    "id": "9IrgPfaneAlj",
    "outputId": "e9912b7b-34f4-45f4-ea71-4e6e1b4d3654"
   },
   "outputs": [
    {
     "data": {
      "text/html": [
       "<div>\n",
       "<style scoped>\n",
       "    .dataframe tbody tr th:only-of-type {\n",
       "        vertical-align: middle;\n",
       "    }\n",
       "\n",
       "    .dataframe tbody tr th {\n",
       "        vertical-align: top;\n",
       "    }\n",
       "\n",
       "    .dataframe thead th {\n",
       "        text-align: right;\n",
       "    }\n",
       "</style>\n",
       "<table border=\"1\" class=\"dataframe\">\n",
       "  <thead>\n",
       "    <tr style=\"text-align: right;\">\n",
       "      <th></th>\n",
       "      <th>length</th>\n",
       "      <th>beam</th>\n",
       "      <th>draft</th>\n",
       "      <th>pressure</th>\n",
       "      <th>vortex</th>\n",
       "      <th>magnetic</th>\n",
       "      <th>light</th>\n",
       "    </tr>\n",
       "  </thead>\n",
       "  <tbody>\n",
       "    <tr>\n",
       "      <th>count</th>\n",
       "      <td>1000.000000</td>\n",
       "      <td>1000.000000</td>\n",
       "      <td>1000.000000</td>\n",
       "      <td>1000.000000</td>\n",
       "      <td>1000.000000</td>\n",
       "      <td>1000.000000</td>\n",
       "      <td>1000.000000</td>\n",
       "    </tr>\n",
       "    <tr>\n",
       "      <th>mean</th>\n",
       "      <td>86.110195</td>\n",
       "      <td>6.934631</td>\n",
       "      <td>7.030614</td>\n",
       "      <td>3058.648963</td>\n",
       "      <td>1463.348618</td>\n",
       "      <td>50.594892</td>\n",
       "      <td>16.102395</td>\n",
       "    </tr>\n",
       "    <tr>\n",
       "      <th>std</th>\n",
       "      <td>16.198054</td>\n",
       "      <td>1.204779</td>\n",
       "      <td>0.465658</td>\n",
       "      <td>253.049119</td>\n",
       "      <td>260.641962</td>\n",
       "      <td>4.084005</td>\n",
       "      <td>0.781029</td>\n",
       "    </tr>\n",
       "    <tr>\n",
       "      <th>min</th>\n",
       "      <td>57.728369</td>\n",
       "      <td>4.819302</td>\n",
       "      <td>6.048768</td>\n",
       "      <td>2633.741739</td>\n",
       "      <td>1019.441262</td>\n",
       "      <td>43.385487</td>\n",
       "      <td>14.513488</td>\n",
       "    </tr>\n",
       "    <tr>\n",
       "      <th>25%</th>\n",
       "      <td>72.527090</td>\n",
       "      <td>5.904496</td>\n",
       "      <td>6.632394</td>\n",
       "      <td>2845.994761</td>\n",
       "      <td>1235.363998</td>\n",
       "      <td>47.152980</td>\n",
       "      <td>15.463941</td>\n",
       "    </tr>\n",
       "    <tr>\n",
       "      <th>50%</th>\n",
       "      <td>85.906370</td>\n",
       "      <td>6.943012</td>\n",
       "      <td>7.020552</td>\n",
       "      <td>3037.652619</td>\n",
       "      <td>1458.034749</td>\n",
       "      <td>50.590868</td>\n",
       "      <td>16.102156</td>\n",
       "    </tr>\n",
       "    <tr>\n",
       "      <th>75%</th>\n",
       "      <td>99.843297</td>\n",
       "      <td>7.954664</td>\n",
       "      <td>7.416613</td>\n",
       "      <td>3279.854501</td>\n",
       "      <td>1689.686401</td>\n",
       "      <td>54.109025</td>\n",
       "      <td>16.772505</td>\n",
       "    </tr>\n",
       "    <tr>\n",
       "      <th>max</th>\n",
       "      <td>114.026687</td>\n",
       "      <td>9.121761</td>\n",
       "      <td>8.004756</td>\n",
       "      <td>3508.280720</td>\n",
       "      <td>1908.771526</td>\n",
       "      <td>57.865340</td>\n",
       "      <td>17.647834</td>\n",
       "    </tr>\n",
       "  </tbody>\n",
       "</table>\n",
       "</div>"
      ],
      "text/plain": [
       "            length         beam        draft     pressure       vortex  \\\n",
       "count  1000.000000  1000.000000  1000.000000  1000.000000  1000.000000   \n",
       "mean     86.110195     6.934631     7.030614  3058.648963  1463.348618   \n",
       "std      16.198054     1.204779     0.465658   253.049119   260.641962   \n",
       "min      57.728369     4.819302     6.048768  2633.741739  1019.441262   \n",
       "25%      72.527090     5.904496     6.632394  2845.994761  1235.363998   \n",
       "50%      85.906370     6.943012     7.020552  3037.652619  1458.034749   \n",
       "75%      99.843297     7.954664     7.416613  3279.854501  1689.686401   \n",
       "max     114.026687     9.121761     8.004756  3508.280720  1908.771526   \n",
       "\n",
       "          magnetic        light  \n",
       "count  1000.000000  1000.000000  \n",
       "mean     50.594892    16.102395  \n",
       "std       4.084005     0.781029  \n",
       "min      43.385487    14.513488  \n",
       "25%      47.152980    15.463941  \n",
       "50%      50.590868    16.102156  \n",
       "75%      54.109025    16.772505  \n",
       "max      57.865340    17.647834  "
      ]
     },
     "execution_count": 16,
     "metadata": {},
     "output_type": "execute_result"
    }
   ],
   "source": [
    "shapedXia.describe()"
   ]
  },
  {
   "cell_type": "code",
   "execution_count": null,
   "metadata": {
    "colab": {
     "base_uri": "https://localhost:8080/",
     "height": 206
    },
    "id": "Z9vkFbA7d7Uc",
    "outputId": "0bfd71ea-8df3-4b01-d885-77a5488f915d"
   },
   "outputs": [
    {
     "data": {
      "text/html": [
       "<div>\n",
       "<style scoped>\n",
       "    .dataframe tbody tr th:only-of-type {\n",
       "        vertical-align: middle;\n",
       "    }\n",
       "\n",
       "    .dataframe tbody tr th {\n",
       "        vertical-align: top;\n",
       "    }\n",
       "\n",
       "    .dataframe thead th {\n",
       "        text-align: right;\n",
       "    }\n",
       "</style>\n",
       "<table border=\"1\" class=\"dataframe\">\n",
       "  <thead>\n",
       "    <tr style=\"text-align: right;\">\n",
       "      <th></th>\n",
       "      <th>classType</th>\n",
       "      <th>sampleId</th>\n",
       "      <th>length</th>\n",
       "      <th>beam</th>\n",
       "      <th>draft</th>\n",
       "      <th>pressure</th>\n",
       "      <th>vortex</th>\n",
       "      <th>magnetic</th>\n",
       "      <th>light</th>\n",
       "    </tr>\n",
       "  </thead>\n",
       "  <tbody>\n",
       "    <tr>\n",
       "      <th>0</th>\n",
       "      <td>Yuan</td>\n",
       "      <td>YSN-1</td>\n",
       "      <td>73.721918</td>\n",
       "      <td>7.168572</td>\n",
       "      <td>6.445035</td>\n",
       "      <td>638.846112</td>\n",
       "      <td>480.013135</td>\n",
       "      <td>11.807041</td>\n",
       "      <td>0.732041</td>\n",
       "    </tr>\n",
       "    <tr>\n",
       "      <th>1</th>\n",
       "      <td>Yuan</td>\n",
       "      <td>YSN-2</td>\n",
       "      <td>73.730237</td>\n",
       "      <td>6.927072</td>\n",
       "      <td>5.315884</td>\n",
       "      <td>765.411858</td>\n",
       "      <td>660.928210</td>\n",
       "      <td>14.095569</td>\n",
       "      <td>0.695893</td>\n",
       "    </tr>\n",
       "    <tr>\n",
       "      <th>2</th>\n",
       "      <td>Yuan</td>\n",
       "      <td>YSN-3</td>\n",
       "      <td>64.026850</td>\n",
       "      <td>7.030980</td>\n",
       "      <td>5.914005</td>\n",
       "      <td>885.478912</td>\n",
       "      <td>486.807958</td>\n",
       "      <td>8.934826</td>\n",
       "      <td>0.674695</td>\n",
       "    </tr>\n",
       "    <tr>\n",
       "      <th>3</th>\n",
       "      <td>Yuan</td>\n",
       "      <td>YSN-4</td>\n",
       "      <td>77.383213</td>\n",
       "      <td>7.179935</td>\n",
       "      <td>5.941756</td>\n",
       "      <td>1004.075710</td>\n",
       "      <td>634.460552</td>\n",
       "      <td>8.533356</td>\n",
       "      <td>0.822738</td>\n",
       "    </tr>\n",
       "    <tr>\n",
       "      <th>4</th>\n",
       "      <td>Yuan</td>\n",
       "      <td>YSN-5</td>\n",
       "      <td>76.908037</td>\n",
       "      <td>7.836291</td>\n",
       "      <td>6.435579</td>\n",
       "      <td>636.024248</td>\n",
       "      <td>566.595453</td>\n",
       "      <td>10.234846</td>\n",
       "      <td>1.137746</td>\n",
       "    </tr>\n",
       "  </tbody>\n",
       "</table>\n",
       "</div>"
      ],
      "text/plain": [
       "  classType sampleId     length      beam     draft     pressure      vortex  \\\n",
       "0      Yuan    YSN-1  73.721918  7.168572  6.445035   638.846112  480.013135   \n",
       "1      Yuan    YSN-2  73.730237  6.927072  5.315884   765.411858  660.928210   \n",
       "2      Yuan    YSN-3  64.026850  7.030980  5.914005   885.478912  486.807958   \n",
       "3      Yuan    YSN-4  77.383213  7.179935  5.941756  1004.075710  634.460552   \n",
       "4      Yuan    YSN-5  76.908037  7.836291  6.435579   636.024248  566.595453   \n",
       "\n",
       "    magnetic     light  \n",
       "0  11.807041  0.732041  \n",
       "1  14.095569  0.695893  \n",
       "2   8.934826  0.674695  \n",
       "3   8.533356  0.822738  \n",
       "4  10.234846  1.137746  "
      ]
     },
     "execution_count": 17,
     "metadata": {},
     "output_type": "execute_result"
    }
   ],
   "source": [
    "shapedYuan.head()"
   ]
  },
  {
   "cell_type": "code",
   "execution_count": null,
   "metadata": {
    "colab": {
     "base_uri": "https://localhost:8080/",
     "height": 300
    },
    "id": "BZGtX824eDkN",
    "outputId": "139535be-9813-4daa-b46f-817cd834c42b"
   },
   "outputs": [
    {
     "data": {
      "text/html": [
       "<div>\n",
       "<style scoped>\n",
       "    .dataframe tbody tr th:only-of-type {\n",
       "        vertical-align: middle;\n",
       "    }\n",
       "\n",
       "    .dataframe tbody tr th {\n",
       "        vertical-align: top;\n",
       "    }\n",
       "\n",
       "    .dataframe thead th {\n",
       "        text-align: right;\n",
       "    }\n",
       "</style>\n",
       "<table border=\"1\" class=\"dataframe\">\n",
       "  <thead>\n",
       "    <tr style=\"text-align: right;\">\n",
       "      <th></th>\n",
       "      <th>length</th>\n",
       "      <th>beam</th>\n",
       "      <th>draft</th>\n",
       "      <th>pressure</th>\n",
       "      <th>vortex</th>\n",
       "      <th>magnetic</th>\n",
       "      <th>light</th>\n",
       "    </tr>\n",
       "  </thead>\n",
       "  <tbody>\n",
       "    <tr>\n",
       "      <th>count</th>\n",
       "      <td>1000.000000</td>\n",
       "      <td>1000.000000</td>\n",
       "      <td>1000.000000</td>\n",
       "      <td>1000.000000</td>\n",
       "      <td>1000.000000</td>\n",
       "      <td>1000.000000</td>\n",
       "      <td>1000.000000</td>\n",
       "    </tr>\n",
       "    <tr>\n",
       "      <th>mean</th>\n",
       "      <td>70.052333</td>\n",
       "      <td>7.518004</td>\n",
       "      <td>6.048530</td>\n",
       "      <td>825.091204</td>\n",
       "      <td>714.020925</td>\n",
       "      <td>12.786053</td>\n",
       "      <td>0.905225</td>\n",
       "    </tr>\n",
       "    <tr>\n",
       "      <th>std</th>\n",
       "      <td>4.445508</td>\n",
       "      <td>0.630023</td>\n",
       "      <td>0.490279</td>\n",
       "      <td>166.700658</td>\n",
       "      <td>142.704561</td>\n",
       "      <td>2.586399</td>\n",
       "      <td>0.147433</td>\n",
       "    </tr>\n",
       "    <tr>\n",
       "      <th>min</th>\n",
       "      <td>62.259571</td>\n",
       "      <td>6.355685</td>\n",
       "      <td>5.090542</td>\n",
       "      <td>534.843642</td>\n",
       "      <td>463.698081</td>\n",
       "      <td>8.319714</td>\n",
       "      <td>0.584033</td>\n",
       "    </tr>\n",
       "    <tr>\n",
       "      <th>25%</th>\n",
       "      <td>66.290149</td>\n",
       "      <td>6.953490</td>\n",
       "      <td>5.620459</td>\n",
       "      <td>687.467480</td>\n",
       "      <td>589.442118</td>\n",
       "      <td>10.553603</td>\n",
       "      <td>0.788987</td>\n",
       "    </tr>\n",
       "    <tr>\n",
       "      <th>50%</th>\n",
       "      <td>69.952991</td>\n",
       "      <td>7.547782</td>\n",
       "      <td>6.062973</td>\n",
       "      <td>829.249783</td>\n",
       "      <td>709.053111</td>\n",
       "      <td>12.604617</td>\n",
       "      <td>0.906477</td>\n",
       "    </tr>\n",
       "    <tr>\n",
       "      <th>75%</th>\n",
       "      <td>73.861761</td>\n",
       "      <td>8.066997</td>\n",
       "      <td>6.457534</td>\n",
       "      <td>967.590246</td>\n",
       "      <td>834.719801</td>\n",
       "      <td>15.044322</td>\n",
       "      <td>1.025671</td>\n",
       "    </tr>\n",
       "    <tr>\n",
       "      <th>max</th>\n",
       "      <td>78.044584</td>\n",
       "      <td>8.735416</td>\n",
       "      <td>7.024254</td>\n",
       "      <td>1113.342885</td>\n",
       "      <td>963.207549</td>\n",
       "      <td>17.349034</td>\n",
       "      <td>1.219679</td>\n",
       "    </tr>\n",
       "  </tbody>\n",
       "</table>\n",
       "</div>"
      ],
      "text/plain": [
       "            length         beam        draft     pressure       vortex  \\\n",
       "count  1000.000000  1000.000000  1000.000000  1000.000000  1000.000000   \n",
       "mean     70.052333     7.518004     6.048530   825.091204   714.020925   \n",
       "std       4.445508     0.630023     0.490279   166.700658   142.704561   \n",
       "min      62.259571     6.355685     5.090542   534.843642   463.698081   \n",
       "25%      66.290149     6.953490     5.620459   687.467480   589.442118   \n",
       "50%      69.952991     7.547782     6.062973   829.249783   709.053111   \n",
       "75%      73.861761     8.066997     6.457534   967.590246   834.719801   \n",
       "max      78.044584     8.735416     7.024254  1113.342885   963.207549   \n",
       "\n",
       "          magnetic        light  \n",
       "count  1000.000000  1000.000000  \n",
       "mean     12.786053     0.905225  \n",
       "std       2.586399     0.147433  \n",
       "min       8.319714     0.584033  \n",
       "25%      10.553603     0.788987  \n",
       "50%      12.604617     0.906477  \n",
       "75%      15.044322     1.025671  \n",
       "max      17.349034     1.219679  "
      ]
     },
     "execution_count": 18,
     "metadata": {},
     "output_type": "execute_result"
    }
   ],
   "source": [
    "shapedYuan.describe()"
   ]
  },
  {
   "cell_type": "code",
   "execution_count": null,
   "metadata": {
    "colab": {
     "base_uri": "https://localhost:8080/"
    },
    "id": "Osas6K2ahYp0",
    "outputId": "40f6304d-969c-4339-9ceb-15712983ac84"
   },
   "outputs": [
    {
     "data": {
      "text/plain": [
       "0         XSN-1\n",
       "1         XSN-2\n",
       "2         XSN-3\n",
       "3         XSN-4\n",
       "4         XSN-5\n",
       "         ...   \n",
       "995     XSN-996\n",
       "996     XSN-997\n",
       "997     XSN-998\n",
       "998     XSN-999\n",
       "999    XSN-1000\n",
       "Name: sampleId, Length: 1000, dtype: object"
      ]
     },
     "execution_count": 19,
     "metadata": {},
     "output_type": "execute_result"
    }
   ],
   "source": [
    "shapedYuan.pop(\"classType\")\n",
    "shapedYuan.pop(\"sampleId\")\n",
    "shapedXia.pop(\"classType\")\n",
    "shapedXia.pop(\"sampleId\")"
   ]
  },
  {
   "cell_type": "code",
   "execution_count": null,
   "metadata": {
    "id": "UiZJq3X0flKK"
   },
   "outputs": [],
   "source": [
    "from sklearn.model_selection import train_test_split"
   ]
  },
  {
   "cell_type": "code",
   "execution_count": null,
   "metadata": {
    "colab": {
     "base_uri": "https://localhost:8080/"
    },
    "id": "z9YQXClwfo4B",
    "outputId": "e2b3002b-a5b9-442c-c2bf-d78931b806da"
   },
   "outputs": [
    {
     "name": "stdout",
     "output_type": "stream",
     "text": [
      "For Yuan, Train Samples = 700, Test Samples = 300\n",
      "For Xia, Train Samples = 700, Test Samples = 300\n"
     ]
    }
   ],
   "source": [
    "yuanTrain, yuanTest = train_test_split(shapedYuan,test_size=0.3)\n",
    "xiaTrain, xiaTest = train_test_split(shapedXia,test_size=0.3)\n",
    "\n",
    "print(\"For Yuan, Train Samples = {}, Test Samples = {}\".format(len(yuanTrain),len(yuanTest)))\n",
    "print(\"For Xia, Train Samples = {}, Test Samples = {}\".format(len(xiaTrain),len(xiaTest)))"
   ]
  },
  {
   "cell_type": "markdown",
   "metadata": {
    "id": "45GkPf8J5mgY"
   },
   "source": [
    "# Part IV - Normalize Data"
   ]
  },
  {
   "cell_type": "code",
   "execution_count": null,
   "metadata": {
    "id": "0_u82VcrNO_G"
   },
   "outputs": [],
   "source": [
    "fullTrainData = pd.concat([yuanTrain,xiaTrain],ignore_index=True)"
   ]
  },
  {
   "cell_type": "code",
   "execution_count": null,
   "metadata": {
    "id": "klReHcfGgahG"
   },
   "outputs": [],
   "source": [
    "for i in fullTrainData.columns:\n",
    "  mean = fullTrainData[i].mean()\n",
    "  std = fullTrainData[i].std() \n",
    "\n",
    "  yuanTrain[i] = (yuanTrain[i]-mean)/std\n",
    "  yuanTest[i] =  (yuanTest[i]-mean)/std\n",
    "  xiaTrain[i] = (xiaTrain[i]-mean)/std\n",
    "  xiaTest[i] = (xiaTest[i]-mean)/std"
   ]
  },
  {
   "cell_type": "code",
   "execution_count": null,
   "metadata": {
    "colab": {
     "base_uri": "https://localhost:8080/",
     "height": 206
    },
    "id": "5j5H0luEmXDc",
    "outputId": "243bb20b-c5f6-4ef9-cb82-ac5585ffb421"
   },
   "outputs": [
    {
     "data": {
      "text/html": [
       "<div>\n",
       "<style scoped>\n",
       "    .dataframe tbody tr th:only-of-type {\n",
       "        vertical-align: middle;\n",
       "    }\n",
       "\n",
       "    .dataframe tbody tr th {\n",
       "        vertical-align: top;\n",
       "    }\n",
       "\n",
       "    .dataframe thead th {\n",
       "        text-align: right;\n",
       "    }\n",
       "</style>\n",
       "<table border=\"1\" class=\"dataframe\">\n",
       "  <thead>\n",
       "    <tr style=\"text-align: right;\">\n",
       "      <th></th>\n",
       "      <th>length</th>\n",
       "      <th>beam</th>\n",
       "      <th>draft</th>\n",
       "      <th>pressure</th>\n",
       "      <th>vortex</th>\n",
       "      <th>magnetic</th>\n",
       "      <th>light</th>\n",
       "    </tr>\n",
       "  </thead>\n",
       "  <tbody>\n",
       "    <tr>\n",
       "      <th>869</th>\n",
       "      <td>-1.032713</td>\n",
       "      <td>0.697029</td>\n",
       "      <td>-1.460819</td>\n",
       "      <td>-0.842315</td>\n",
       "      <td>-0.340351</td>\n",
       "      <td>-0.756779</td>\n",
       "      <td>-1.002852</td>\n",
       "    </tr>\n",
       "    <tr>\n",
       "      <th>188</th>\n",
       "      <td>-0.686138</td>\n",
       "      <td>1.121031</td>\n",
       "      <td>-1.819966</td>\n",
       "      <td>-0.895755</td>\n",
       "      <td>-1.238592</td>\n",
       "      <td>-1.165307</td>\n",
       "      <td>-1.016538</td>\n",
       "    </tr>\n",
       "    <tr>\n",
       "      <th>467</th>\n",
       "      <td>-0.885358</td>\n",
       "      <td>-0.481693</td>\n",
       "      <td>-1.346108</td>\n",
       "      <td>-1.108744</td>\n",
       "      <td>-0.863165</td>\n",
       "      <td>-1.138297</td>\n",
       "      <td>-0.995061</td>\n",
       "    </tr>\n",
       "    <tr>\n",
       "      <th>407</th>\n",
       "      <td>-0.686395</td>\n",
       "      <td>0.092312</td>\n",
       "      <td>-2.029481</td>\n",
       "      <td>-1.219585</td>\n",
       "      <td>-1.249525</td>\n",
       "      <td>-1.135875</td>\n",
       "      <td>-1.001452</td>\n",
       "    </tr>\n",
       "    <tr>\n",
       "      <th>565</th>\n",
       "      <td>-0.189754</td>\n",
       "      <td>0.951207</td>\n",
       "      <td>0.062630</td>\n",
       "      <td>-1.078354</td>\n",
       "      <td>-1.434294</td>\n",
       "      <td>-1.089206</td>\n",
       "      <td>-1.003495</td>\n",
       "    </tr>\n",
       "  </tbody>\n",
       "</table>\n",
       "</div>"
      ],
      "text/plain": [
       "       length      beam     draft  pressure    vortex  magnetic     light\n",
       "869 -1.032713  0.697029 -1.460819 -0.842315 -0.340351 -0.756779 -1.002852\n",
       "188 -0.686138  1.121031 -1.819966 -0.895755 -1.238592 -1.165307 -1.016538\n",
       "467 -0.885358 -0.481693 -1.346108 -1.108744 -0.863165 -1.138297 -0.995061\n",
       "407 -0.686395  0.092312 -2.029481 -1.219585 -1.249525 -1.135875 -1.001452\n",
       "565 -0.189754  0.951207  0.062630 -1.078354 -1.434294 -1.089206 -1.003495"
      ]
     },
     "execution_count": 24,
     "metadata": {},
     "output_type": "execute_result"
    }
   ],
   "source": [
    "yuanTrain.head()"
   ]
  },
  {
   "cell_type": "code",
   "execution_count": null,
   "metadata": {
    "colab": {
     "base_uri": "https://localhost:8080/",
     "height": 206
    },
    "id": "hhl-Afa4mZbY",
    "outputId": "437b207d-deab-40eb-ee3f-be9a811bd488"
   },
   "outputs": [
    {
     "data": {
      "text/html": [
       "<div>\n",
       "<style scoped>\n",
       "    .dataframe tbody tr th:only-of-type {\n",
       "        vertical-align: middle;\n",
       "    }\n",
       "\n",
       "    .dataframe tbody tr th {\n",
       "        vertical-align: top;\n",
       "    }\n",
       "\n",
       "    .dataframe thead th {\n",
       "        text-align: right;\n",
       "    }\n",
       "</style>\n",
       "<table border=\"1\" class=\"dataframe\">\n",
       "  <thead>\n",
       "    <tr style=\"text-align: right;\">\n",
       "      <th></th>\n",
       "      <th>length</th>\n",
       "      <th>beam</th>\n",
       "      <th>draft</th>\n",
       "      <th>pressure</th>\n",
       "      <th>vortex</th>\n",
       "      <th>magnetic</th>\n",
       "      <th>light</th>\n",
       "    </tr>\n",
       "  </thead>\n",
       "  <tbody>\n",
       "    <tr>\n",
       "      <th>428</th>\n",
       "      <td>0.701379</td>\n",
       "      <td>-0.257342</td>\n",
       "      <td>-0.579133</td>\n",
       "      <td>1.232923</td>\n",
       "      <td>0.599240</td>\n",
       "      <td>1.043721</td>\n",
       "      <td>1.151196</td>\n",
       "    </tr>\n",
       "    <tr>\n",
       "      <th>947</th>\n",
       "      <td>0.837761</td>\n",
       "      <td>0.735553</td>\n",
       "      <td>-0.088848</td>\n",
       "      <td>0.656731</td>\n",
       "      <td>1.430215</td>\n",
       "      <td>1.021379</td>\n",
       "      <td>0.976678</td>\n",
       "    </tr>\n",
       "    <tr>\n",
       "      <th>398</th>\n",
       "      <td>-1.228533</td>\n",
       "      <td>0.704931</td>\n",
       "      <td>0.897764</td>\n",
       "      <td>0.972859</td>\n",
       "      <td>1.270030</td>\n",
       "      <td>0.913541</td>\n",
       "      <td>1.076340</td>\n",
       "    </tr>\n",
       "    <tr>\n",
       "      <th>326</th>\n",
       "      <td>1.255469</td>\n",
       "      <td>1.601875</td>\n",
       "      <td>1.273897</td>\n",
       "      <td>0.767642</td>\n",
       "      <td>1.380478</td>\n",
       "      <td>0.851504</td>\n",
       "      <td>0.962558</td>\n",
       "    </tr>\n",
       "    <tr>\n",
       "      <th>610</th>\n",
       "      <td>1.488836</td>\n",
       "      <td>1.035208</td>\n",
       "      <td>-0.067637</td>\n",
       "      <td>1.232944</td>\n",
       "      <td>0.599114</td>\n",
       "      <td>0.958584</td>\n",
       "      <td>1.049307</td>\n",
       "    </tr>\n",
       "  </tbody>\n",
       "</table>\n",
       "</div>"
      ],
      "text/plain": [
       "       length      beam     draft  pressure    vortex  magnetic     light\n",
       "428  0.701379 -0.257342 -0.579133  1.232923  0.599240  1.043721  1.151196\n",
       "947  0.837761  0.735553 -0.088848  0.656731  1.430215  1.021379  0.976678\n",
       "398 -1.228533  0.704931  0.897764  0.972859  1.270030  0.913541  1.076340\n",
       "326  1.255469  1.601875  1.273897  0.767642  1.380478  0.851504  0.962558\n",
       "610  1.488836  1.035208 -0.067637  1.232944  0.599114  0.958584  1.049307"
      ]
     },
     "execution_count": 25,
     "metadata": {},
     "output_type": "execute_result"
    }
   ],
   "source": [
    "xiaTrain.head()"
   ]
  },
  {
   "cell_type": "markdown",
   "metadata": {
    "id": "AnCYsmno5pP7"
   },
   "source": [
    "# Part V - Template Creation"
   ]
  },
  {
   "cell_type": "code",
   "execution_count": null,
   "metadata": {
    "colab": {
     "base_uri": "https://localhost:8080/",
     "height": 300
    },
    "id": "ZBBzCQfrN9eH",
    "outputId": "0d3f0651-2b1c-4d26-d268-203cfe59ce30"
   },
   "outputs": [
    {
     "data": {
      "text/html": [
       "<div>\n",
       "<style scoped>\n",
       "    .dataframe tbody tr th:only-of-type {\n",
       "        vertical-align: middle;\n",
       "    }\n",
       "\n",
       "    .dataframe tbody tr th {\n",
       "        vertical-align: top;\n",
       "    }\n",
       "\n",
       "    .dataframe thead th {\n",
       "        text-align: right;\n",
       "    }\n",
       "</style>\n",
       "<table border=\"1\" class=\"dataframe\">\n",
       "  <thead>\n",
       "    <tr style=\"text-align: right;\">\n",
       "      <th></th>\n",
       "      <th>length</th>\n",
       "      <th>beam</th>\n",
       "      <th>draft</th>\n",
       "      <th>pressure</th>\n",
       "      <th>vortex</th>\n",
       "      <th>magnetic</th>\n",
       "      <th>light</th>\n",
       "    </tr>\n",
       "  </thead>\n",
       "  <tbody>\n",
       "    <tr>\n",
       "      <th>count</th>\n",
       "      <td>700.000000</td>\n",
       "      <td>700.000000</td>\n",
       "      <td>700.000000</td>\n",
       "      <td>700.000000</td>\n",
       "      <td>700.000000</td>\n",
       "      <td>700.000000</td>\n",
       "      <td>700.000000</td>\n",
       "    </tr>\n",
       "    <tr>\n",
       "      <th>mean</th>\n",
       "      <td>0.567414</td>\n",
       "      <td>-0.282535</td>\n",
       "      <td>0.719180</td>\n",
       "      <td>0.981996</td>\n",
       "      <td>0.866861</td>\n",
       "      <td>0.983331</td>\n",
       "      <td>0.996911</td>\n",
       "    </tr>\n",
       "    <tr>\n",
       "      <th>std</th>\n",
       "      <td>1.122211</td>\n",
       "      <td>1.201220</td>\n",
       "      <td>0.672665</td>\n",
       "      <td>0.220095</td>\n",
       "      <td>0.619187</td>\n",
       "      <td>0.215414</td>\n",
       "      <td>0.102714</td>\n",
       "    </tr>\n",
       "    <tr>\n",
       "      <th>min</th>\n",
       "      <td>-1.428660</td>\n",
       "      <td>-2.419390</td>\n",
       "      <td>-0.704520</td>\n",
       "      <td>0.601252</td>\n",
       "      <td>-0.157234</td>\n",
       "      <td>0.612524</td>\n",
       "      <td>0.787599</td>\n",
       "    </tr>\n",
       "    <tr>\n",
       "      <th>25%</th>\n",
       "      <td>-0.344112</td>\n",
       "      <td>-1.304296</td>\n",
       "      <td>0.151274</td>\n",
       "      <td>0.800979</td>\n",
       "      <td>0.320071</td>\n",
       "      <td>0.794222</td>\n",
       "      <td>0.912379</td>\n",
       "    </tr>\n",
       "    <tr>\n",
       "      <th>50%</th>\n",
       "      <td>0.567926</td>\n",
       "      <td>-0.250871</td>\n",
       "      <td>0.690991</td>\n",
       "      <td>0.971541</td>\n",
       "      <td>0.849593</td>\n",
       "      <td>0.983448</td>\n",
       "      <td>0.999690</td>\n",
       "    </tr>\n",
       "    <tr>\n",
       "      <th>75%</th>\n",
       "      <td>1.491962</td>\n",
       "      <td>0.737107</td>\n",
       "      <td>1.270152</td>\n",
       "      <td>1.170802</td>\n",
       "      <td>1.413857</td>\n",
       "      <td>1.167691</td>\n",
       "      <td>1.084910</td>\n",
       "    </tr>\n",
       "    <tr>\n",
       "      <th>max</th>\n",
       "      <td>2.500434</td>\n",
       "      <td>1.822641</td>\n",
       "      <td>2.116720</td>\n",
       "      <td>1.367180</td>\n",
       "      <td>1.929488</td>\n",
       "      <td>1.369305</td>\n",
       "      <td>1.192175</td>\n",
       "    </tr>\n",
       "  </tbody>\n",
       "</table>\n",
       "</div>"
      ],
      "text/plain": [
       "           length        beam       draft    pressure      vortex    magnetic  \\\n",
       "count  700.000000  700.000000  700.000000  700.000000  700.000000  700.000000   \n",
       "mean     0.567414   -0.282535    0.719180    0.981996    0.866861    0.983331   \n",
       "std      1.122211    1.201220    0.672665    0.220095    0.619187    0.215414   \n",
       "min     -1.428660   -2.419390   -0.704520    0.601252   -0.157234    0.612524   \n",
       "25%     -0.344112   -1.304296    0.151274    0.800979    0.320071    0.794222   \n",
       "50%      0.567926   -0.250871    0.690991    0.971541    0.849593    0.983448   \n",
       "75%      1.491962    0.737107    1.270152    1.170802    1.413857    1.167691   \n",
       "max      2.500434    1.822641    2.116720    1.367180    1.929488    1.369305   \n",
       "\n",
       "            light  \n",
       "count  700.000000  \n",
       "mean     0.996911  \n",
       "std      0.102714  \n",
       "min      0.787599  \n",
       "25%      0.912379  \n",
       "50%      0.999690  \n",
       "75%      1.084910  \n",
       "max      1.192175  "
      ]
     },
     "execution_count": 26,
     "metadata": {},
     "output_type": "execute_result"
    }
   ],
   "source": [
    "xiaTrain.describe()"
   ]
  },
  {
   "cell_type": "code",
   "execution_count": null,
   "metadata": {
    "colab": {
     "base_uri": "https://localhost:8080/",
     "height": 300
    },
    "id": "wcvP68xIK3gE",
    "outputId": "f942d7cf-7044-4274-b8a8-f53bf676d75e"
   },
   "outputs": [
    {
     "data": {
      "text/html": [
       "<div>\n",
       "<style scoped>\n",
       "    .dataframe tbody tr th:only-of-type {\n",
       "        vertical-align: middle;\n",
       "    }\n",
       "\n",
       "    .dataframe tbody tr th {\n",
       "        vertical-align: top;\n",
       "    }\n",
       "\n",
       "    .dataframe thead th {\n",
       "        text-align: right;\n",
       "    }\n",
       "</style>\n",
       "<table border=\"1\" class=\"dataframe\">\n",
       "  <thead>\n",
       "    <tr style=\"text-align: right;\">\n",
       "      <th></th>\n",
       "      <th>length</th>\n",
       "      <th>beam</th>\n",
       "      <th>draft</th>\n",
       "      <th>pressure</th>\n",
       "      <th>vortex</th>\n",
       "      <th>magnetic</th>\n",
       "      <th>light</th>\n",
       "    </tr>\n",
       "  </thead>\n",
       "  <tbody>\n",
       "    <tr>\n",
       "      <th>count</th>\n",
       "      <td>700.000000</td>\n",
       "      <td>700.000000</td>\n",
       "      <td>700.000000</td>\n",
       "      <td>700.000000</td>\n",
       "      <td>700.000000</td>\n",
       "      <td>700.000000</td>\n",
       "      <td>700.000000</td>\n",
       "    </tr>\n",
       "    <tr>\n",
       "      <th>mean</th>\n",
       "      <td>-0.567414</td>\n",
       "      <td>0.282535</td>\n",
       "      <td>-0.719180</td>\n",
       "      <td>-0.981996</td>\n",
       "      <td>-0.866861</td>\n",
       "      <td>-0.983331</td>\n",
       "      <td>-0.996911</td>\n",
       "    </tr>\n",
       "    <tr>\n",
       "      <th>std</th>\n",
       "      <td>0.311825</td>\n",
       "      <td>0.631363</td>\n",
       "      <td>0.716262</td>\n",
       "      <td>0.146966</td>\n",
       "      <td>0.336141</td>\n",
       "      <td>0.135576</td>\n",
       "      <td>0.019308</td>\n",
       "    </tr>\n",
       "    <tr>\n",
       "      <th>min</th>\n",
       "      <td>-1.112216</td>\n",
       "      <td>-0.891753</td>\n",
       "      <td>-2.091321</td>\n",
       "      <td>-1.236980</td>\n",
       "      <td>-1.461228</td>\n",
       "      <td>-1.216212</td>\n",
       "      <td>-1.039120</td>\n",
       "    </tr>\n",
       "    <tr>\n",
       "      <th>25%</th>\n",
       "      <td>-0.834559</td>\n",
       "      <td>-0.297351</td>\n",
       "      <td>-1.343989</td>\n",
       "      <td>-1.103706</td>\n",
       "      <td>-1.155367</td>\n",
       "      <td>-1.095617</td>\n",
       "      <td>-1.011773</td>\n",
       "    </tr>\n",
       "    <tr>\n",
       "      <th>50%</th>\n",
       "      <td>-0.576527</td>\n",
       "      <td>0.353792</td>\n",
       "      <td>-0.698368</td>\n",
       "      <td>-0.986406</td>\n",
       "      <td>-0.862774</td>\n",
       "      <td>-0.998014</td>\n",
       "      <td>-0.996872</td>\n",
       "    </tr>\n",
       "    <tr>\n",
       "      <th>75%</th>\n",
       "      <td>-0.300541</td>\n",
       "      <td>0.828500</td>\n",
       "      <td>-0.130432</td>\n",
       "      <td>-0.856074</td>\n",
       "      <td>-0.567046</td>\n",
       "      <td>-0.862112</td>\n",
       "      <td>-0.981210</td>\n",
       "    </tr>\n",
       "    <tr>\n",
       "      <th>max</th>\n",
       "      <td>-0.009845</td>\n",
       "      <td>1.474431</td>\n",
       "      <td>0.700903</td>\n",
       "      <td>-0.730325</td>\n",
       "      <td>-0.289180</td>\n",
       "      <td>-0.748255</td>\n",
       "      <td>-0.955761</td>\n",
       "    </tr>\n",
       "  </tbody>\n",
       "</table>\n",
       "</div>"
      ],
      "text/plain": [
       "           length        beam       draft    pressure      vortex    magnetic  \\\n",
       "count  700.000000  700.000000  700.000000  700.000000  700.000000  700.000000   \n",
       "mean    -0.567414    0.282535   -0.719180   -0.981996   -0.866861   -0.983331   \n",
       "std      0.311825    0.631363    0.716262    0.146966    0.336141    0.135576   \n",
       "min     -1.112216   -0.891753   -2.091321   -1.236980   -1.461228   -1.216212   \n",
       "25%     -0.834559   -0.297351   -1.343989   -1.103706   -1.155367   -1.095617   \n",
       "50%     -0.576527    0.353792   -0.698368   -0.986406   -0.862774   -0.998014   \n",
       "75%     -0.300541    0.828500   -0.130432   -0.856074   -0.567046   -0.862112   \n",
       "max     -0.009845    1.474431    0.700903   -0.730325   -0.289180   -0.748255   \n",
       "\n",
       "            light  \n",
       "count  700.000000  \n",
       "mean    -0.996911  \n",
       "std      0.019308  \n",
       "min     -1.039120  \n",
       "25%     -1.011773  \n",
       "50%     -0.996872  \n",
       "75%     -0.981210  \n",
       "max     -0.955761  "
      ]
     },
     "execution_count": 27,
     "metadata": {},
     "output_type": "execute_result"
    }
   ],
   "source": [
    "yuanTrain.describe()"
   ]
  },
  {
   "cell_type": "code",
   "execution_count": null,
   "metadata": {
    "id": "3NyzUgE2mSoA"
   },
   "outputs": [],
   "source": [
    "yuanMeanVector = yuanTrain.mean()\n",
    "xiaMeanVector = xiaTrain.mean()\n"
   ]
  },
  {
   "cell_type": "code",
   "execution_count": null,
   "metadata": {
    "colab": {
     "base_uri": "https://localhost:8080/"
    },
    "id": "ACDGI3o7sgTz",
    "outputId": "5e226d56-4864-494b-f34c-cdf20b3f808e"
   },
   "outputs": [
    {
     "data": {
      "text/plain": [
       "length      0.567414\n",
       "beam       -0.282535\n",
       "draft       0.719180\n",
       "pressure    0.981996\n",
       "vortex      0.866861\n",
       "magnetic    0.983331\n",
       "light       0.996911\n",
       "dtype: float64"
      ]
     },
     "execution_count": 29,
     "metadata": {},
     "output_type": "execute_result"
    }
   ],
   "source": [
    "xiaMeanVector"
   ]
  },
  {
   "cell_type": "code",
   "execution_count": null,
   "metadata": {
    "colab": {
     "base_uri": "https://localhost:8080/"
    },
    "id": "whxF71vHsdnd",
    "outputId": "bcc3de8e-a707-401e-cafb-a8dae50eb542"
   },
   "outputs": [
    {
     "data": {
      "text/plain": [
       "length     -0.567414\n",
       "beam        0.282535\n",
       "draft      -0.719180\n",
       "pressure   -0.981996\n",
       "vortex     -0.866861\n",
       "magnetic   -0.983331\n",
       "light      -0.996911\n",
       "dtype: float64"
      ]
     },
     "execution_count": 30,
     "metadata": {},
     "output_type": "execute_result"
    }
   ],
   "source": [
    "yuanMeanVector"
   ]
  },
  {
   "cell_type": "markdown",
   "metadata": {
    "id": "W3Ua0oeY5r4v"
   },
   "source": [
    "# Part VI - Distance Calculations"
   ]
  },
  {
   "cell_type": "code",
   "execution_count": 62,
   "metadata": {
    "id": "v4Xy2ywRtJDx"
   },
   "outputs": [],
   "source": [
    "def distance(a,b):\n",
    "  sum = 0\n",
    "  for i in a.keys():\n",
    "    sum += (a[i] - b[i])**2\n",
    "  return math.sqrt(sum)\n"
   ]
  },
  {
   "cell_type": "code",
   "execution_count": 63,
   "metadata": {
    "id": "vJ6itP43svQ4"
   },
   "outputs": [],
   "source": [
    "yuanTrain[\"distance\"] = 0.0\n",
    "for index, row in yuanTrain.iterrows():\n",
    "   d = distance(yuanMeanVector,row)\n",
    "   yuanTrain.at[index,\"distance\"] = d"
   ]
  },
  {
   "cell_type": "code",
   "execution_count": 64,
   "metadata": {
    "id": "jD-a7mGrzNui"
   },
   "outputs": [],
   "source": [
    "xiaTrain[\"distance\"] = 0.0\n",
    "for index, row in xiaTrain.iterrows():\n",
    "   d = distance(xiaMeanVector,row)\n",
    "   xiaTrain.at[index,\"distance\"] = d"
   ]
  },
  {
   "cell_type": "code",
   "execution_count": 65,
   "metadata": {
    "colab": {
     "base_uri": "https://localhost:8080/"
    },
    "id": "OJXykGpguuxq",
    "outputId": "e83cf890-3952-4a9d-c7bd-39ca6f193f5b"
   },
   "outputs": [
    {
     "data": {
      "text/plain": [
       "869    1.134205\n",
       "188    1.451902\n",
       "467    1.057482\n",
       "407    1.411878\n",
       "565    1.242375\n",
       "         ...   \n",
       "853    1.391837\n",
       "379    1.465134\n",
       "717    1.419522\n",
       "233    0.788142\n",
       "786    0.938678\n",
       "Name: distance, Length: 700, dtype: float64"
      ]
     },
     "execution_count": 65,
     "metadata": {},
     "output_type": "execute_result"
    }
   ],
   "source": [
    "yuanTrain[\"distance\"]"
   ]
  },
  {
   "cell_type": "code",
   "execution_count": null,
   "metadata": {
    "colab": {
     "base_uri": "https://localhost:8080/"
    },
    "id": "-myvRCf1zdfx",
    "outputId": "89f2287e-f828-4a0c-a0de-93bd0115b525"
   },
   "outputs": [
    {
     "data": {
      "text/plain": [
       "428    1.366102\n",
       "947    1.479027\n",
       "398    2.099098\n",
       "326    2.158805\n",
       "610    1.828270\n",
       "         ...   \n",
       "755    1.098722\n",
       "108    2.178158\n",
       "652    2.063760\n",
       "282    2.042424\n",
       "372    2.511165\n",
       "Name: distance, Length: 700, dtype: float64"
      ]
     },
     "execution_count": 36,
     "metadata": {},
     "output_type": "execute_result"
    }
   ],
   "source": [
    "xiaTrain[\"distance\"]"
   ]
  },
  {
   "cell_type": "code",
   "execution_count": null,
   "metadata": {
    "id": "8QOUE4TSzo9k"
   },
   "outputs": [],
   "source": [
    "yuanDistance = {}\n",
    "\n",
    "yuanDistance[\"min\"] = yuanTrain[\"distance\"].min()\n",
    "yuanDistance[\"max\"] = yuanTrain[\"distance\"].max()\n",
    "yuanDistance[\"range_a\"] = yuanTrain[\"distance\"].max() - yuanTrain[\"distance\"].min()\n",
    "yuanDistance[\"range_b\"] = len(yuanTrain)\n",
    "yuanDistance[\"mean\"] = yuanTrain[\"distance\"].mean()\n",
    "yuanDistance[\"median\"] = yuanTrain[\"distance\"].median()\n",
    "yuanDistance[\"variation\"] = yuanTrain[\"distance\"].var()\n",
    "yuanDistance[\"standartDeviation\"] = yuanTrain[\"distance\"].std()\n"
   ]
  },
  {
   "cell_type": "code",
   "execution_count": null,
   "metadata": {
    "id": "pik234LC1gvP"
   },
   "outputs": [],
   "source": [
    "xiaDistance = {}\n",
    "\n",
    "xiaDistance[\"min\"] = xiaTrain[\"distance\"].min()\n",
    "xiaDistance[\"max\"] = xiaTrain[\"distance\"].max()\n",
    "xiaDistance[\"range_a\"] = xiaTrain[\"distance\"].max() - xiaTrain[\"distance\"].min()\n",
    "xiaDistance[\"range_b\"] = len(xiaTrain)\n",
    "xiaDistance[\"mean\"] = xiaTrain[\"distance\"].mean()\n",
    "xiaDistance[\"median\"] = xiaTrain[\"distance\"].median()\n",
    "xiaDistance[\"variation\"] = xiaTrain[\"distance\"].var()\n",
    "xiaDistance[\"standartDeviation\"] = xiaTrain[\"distance\"].std()"
   ]
  },
  {
   "cell_type": "code",
   "execution_count": null,
   "metadata": {
    "colab": {
     "base_uri": "https://localhost:8080/",
     "height": 81
    },
    "id": "9p5wvu7d04X5",
    "outputId": "fc8712b1-9c24-45d2-b487-e1c91a845f2f"
   },
   "outputs": [
    {
     "data": {
      "text/html": [
       "<div>\n",
       "<style scoped>\n",
       "    .dataframe tbody tr th:only-of-type {\n",
       "        vertical-align: middle;\n",
       "    }\n",
       "\n",
       "    .dataframe tbody tr th {\n",
       "        vertical-align: top;\n",
       "    }\n",
       "\n",
       "    .dataframe thead th {\n",
       "        text-align: right;\n",
       "    }\n",
       "</style>\n",
       "<table border=\"1\" class=\"dataframe\">\n",
       "  <thead>\n",
       "    <tr style=\"text-align: right;\">\n",
       "      <th></th>\n",
       "      <th>min</th>\n",
       "      <th>max</th>\n",
       "      <th>range_a</th>\n",
       "      <th>range_b</th>\n",
       "      <th>mean</th>\n",
       "      <th>median</th>\n",
       "      <th>variation</th>\n",
       "      <th>standartDeviation</th>\n",
       "    </tr>\n",
       "  </thead>\n",
       "  <tbody>\n",
       "    <tr>\n",
       "      <th>0</th>\n",
       "      <td>0.292279</td>\n",
       "      <td>1.727048</td>\n",
       "      <td>1.434769</td>\n",
       "      <td>700</td>\n",
       "      <td>1.039712</td>\n",
       "      <td>1.04872</td>\n",
       "      <td>0.07968</td>\n",
       "      <td>0.282277</td>\n",
       "    </tr>\n",
       "  </tbody>\n",
       "</table>\n",
       "</div>"
      ],
      "text/plain": [
       "        min       max   range_a  range_b      mean   median  variation  \\\n",
       "0  0.292279  1.727048  1.434769      700  1.039712  1.04872    0.07968   \n",
       "\n",
       "   standartDeviation  \n",
       "0           0.282277  "
      ]
     },
     "execution_count": 39,
     "metadata": {},
     "output_type": "execute_result"
    }
   ],
   "source": [
    "yuanDist = pd.DataFrame(data=yuanDistance,index=[0])\n",
    "yuanDist"
   ]
  },
  {
   "cell_type": "code",
   "execution_count": 66,
   "metadata": {
    "colab": {
     "base_uri": "https://localhost:8080/",
     "height": 81
    },
    "id": "XHw6fSiZ1qND",
    "outputId": "9311b5a1-f45a-499b-8832-8e43518e7915"
   },
   "outputs": [
    {
     "data": {
      "text/html": [
       "<div>\n",
       "<style scoped>\n",
       "    .dataframe tbody tr th:only-of-type {\n",
       "        vertical-align: middle;\n",
       "    }\n",
       "\n",
       "    .dataframe tbody tr th {\n",
       "        vertical-align: top;\n",
       "    }\n",
       "\n",
       "    .dataframe thead th {\n",
       "        text-align: right;\n",
       "    }\n",
       "</style>\n",
       "<table border=\"1\" class=\"dataframe\">\n",
       "  <thead>\n",
       "    <tr style=\"text-align: right;\">\n",
       "      <th></th>\n",
       "      <th>min</th>\n",
       "      <th>max</th>\n",
       "      <th>range_a</th>\n",
       "      <th>range_b</th>\n",
       "      <th>mean</th>\n",
       "      <th>median</th>\n",
       "      <th>variation</th>\n",
       "      <th>standartDeviation</th>\n",
       "    </tr>\n",
       "  </thead>\n",
       "  <tbody>\n",
       "    <tr>\n",
       "      <th>0</th>\n",
       "      <td>0.558557</td>\n",
       "      <td>3.02694</td>\n",
       "      <td>2.468383</td>\n",
       "      <td>700</td>\n",
       "      <td>1.841209</td>\n",
       "      <td>1.872661</td>\n",
       "      <td>0.248654</td>\n",
       "      <td>0.498652</td>\n",
       "    </tr>\n",
       "  </tbody>\n",
       "</table>\n",
       "</div>"
      ],
      "text/plain": [
       "        min      max   range_a  range_b      mean    median  variation  \\\n",
       "0  0.558557  3.02694  2.468383      700  1.841209  1.872661   0.248654   \n",
       "\n",
       "   standartDeviation  \n",
       "0           0.498652  "
      ]
     },
     "execution_count": 66,
     "metadata": {},
     "output_type": "execute_result"
    }
   ],
   "source": [
    "xiaDist = pd.DataFrame(data=xiaDistance,index=[0])\n",
    "xiaDist"
   ]
  },
  {
   "cell_type": "markdown",
   "metadata": {
    "id": "iwpUNXn-5uf5"
   },
   "source": [
    "# Part VIII - Threshold Selection"
   ]
  },
  {
   "cell_type": "code",
   "execution_count": 41,
   "metadata": {
    "colab": {
     "base_uri": "https://localhost:8080/",
     "height": 424
    },
    "id": "Mt77vaPj6jVS",
    "outputId": "e957802c-e93e-4d3d-c247-7331567628e4"
   },
   "outputs": [
    {
     "data": {
      "text/html": [
       "<div>\n",
       "<style scoped>\n",
       "    .dataframe tbody tr th:only-of-type {\n",
       "        vertical-align: middle;\n",
       "    }\n",
       "\n",
       "    .dataframe tbody tr th {\n",
       "        vertical-align: top;\n",
       "    }\n",
       "\n",
       "    .dataframe thead th {\n",
       "        text-align: right;\n",
       "    }\n",
       "</style>\n",
       "<table border=\"1\" class=\"dataframe\">\n",
       "  <thead>\n",
       "    <tr style=\"text-align: right;\">\n",
       "      <th></th>\n",
       "      <th>distance</th>\n",
       "      <th>LT</th>\n",
       "      <th>LTE</th>\n",
       "      <th>ET</th>\n",
       "      <th>GT</th>\n",
       "    </tr>\n",
       "  </thead>\n",
       "  <tbody>\n",
       "    <tr>\n",
       "      <th>869</th>\n",
       "      <td>1.134205</td>\n",
       "      <td>0</td>\n",
       "      <td>0</td>\n",
       "      <td>0</td>\n",
       "      <td>1</td>\n",
       "    </tr>\n",
       "    <tr>\n",
       "      <th>188</th>\n",
       "      <td>1.451902</td>\n",
       "      <td>0</td>\n",
       "      <td>0</td>\n",
       "      <td>0</td>\n",
       "      <td>1</td>\n",
       "    </tr>\n",
       "    <tr>\n",
       "      <th>467</th>\n",
       "      <td>1.057482</td>\n",
       "      <td>0</td>\n",
       "      <td>0</td>\n",
       "      <td>0</td>\n",
       "      <td>1</td>\n",
       "    </tr>\n",
       "    <tr>\n",
       "      <th>407</th>\n",
       "      <td>1.411878</td>\n",
       "      <td>0</td>\n",
       "      <td>0</td>\n",
       "      <td>0</td>\n",
       "      <td>1</td>\n",
       "    </tr>\n",
       "    <tr>\n",
       "      <th>565</th>\n",
       "      <td>1.242375</td>\n",
       "      <td>0</td>\n",
       "      <td>0</td>\n",
       "      <td>0</td>\n",
       "      <td>1</td>\n",
       "    </tr>\n",
       "    <tr>\n",
       "      <th>...</th>\n",
       "      <td>...</td>\n",
       "      <td>...</td>\n",
       "      <td>...</td>\n",
       "      <td>...</td>\n",
       "      <td>...</td>\n",
       "    </tr>\n",
       "    <tr>\n",
       "      <th>853</th>\n",
       "      <td>1.391837</td>\n",
       "      <td>0</td>\n",
       "      <td>0</td>\n",
       "      <td>0</td>\n",
       "      <td>1</td>\n",
       "    </tr>\n",
       "    <tr>\n",
       "      <th>379</th>\n",
       "      <td>1.465134</td>\n",
       "      <td>0</td>\n",
       "      <td>0</td>\n",
       "      <td>0</td>\n",
       "      <td>1</td>\n",
       "    </tr>\n",
       "    <tr>\n",
       "      <th>717</th>\n",
       "      <td>1.419522</td>\n",
       "      <td>0</td>\n",
       "      <td>0</td>\n",
       "      <td>0</td>\n",
       "      <td>1</td>\n",
       "    </tr>\n",
       "    <tr>\n",
       "      <th>233</th>\n",
       "      <td>0.788142</td>\n",
       "      <td>1</td>\n",
       "      <td>1</td>\n",
       "      <td>0</td>\n",
       "      <td>0</td>\n",
       "    </tr>\n",
       "    <tr>\n",
       "      <th>786</th>\n",
       "      <td>0.938678</td>\n",
       "      <td>1</td>\n",
       "      <td>1</td>\n",
       "      <td>0</td>\n",
       "      <td>0</td>\n",
       "    </tr>\n",
       "  </tbody>\n",
       "</table>\n",
       "<p>700 rows × 5 columns</p>\n",
       "</div>"
      ],
      "text/plain": [
       "     distance  LT  LTE  ET  GT\n",
       "869  1.134205   0    0   0   1\n",
       "188  1.451902   0    0   0   1\n",
       "467  1.057482   0    0   0   1\n",
       "407  1.411878   0    0   0   1\n",
       "565  1.242375   0    0   0   1\n",
       "..        ...  ..  ...  ..  ..\n",
       "853  1.391837   0    0   0   1\n",
       "379  1.465134   0    0   0   1\n",
       "717  1.419522   0    0   0   1\n",
       "233  0.788142   1    1   0   0\n",
       "786  0.938678   1    1   0   0\n",
       "\n",
       "[700 rows x 5 columns]"
      ]
     },
     "execution_count": 41,
     "metadata": {},
     "output_type": "execute_result"
    }
   ],
   "source": [
    "yuanTrain[\"LT\"] = 0\n",
    "yuanTrain[\"LTE\"] = 0\n",
    "yuanTrain[\"ET\"] = 0\n",
    "yuanTrain[\"GT\"] = 0\n",
    "\n",
    "for index,row in yuanTrain.iterrows():\n",
    "  yuanTrain.at[index,\"LT\"] = 1 if row[\"distance\"]<float(yuanDist[\"mean\"]) else 0\n",
    "  yuanTrain.at[index,\"LTE\"] = 1 if row[\"distance\"]<=float(yuanDist[\"mean\"]) else 0\n",
    "  yuanTrain.at[index,\"ET\"] = 1 if row[\"distance\"]==float(yuanDist[\"mean\"]) else 0\n",
    "  yuanTrain.at[index,\"GT\"] = 1 if row[\"distance\"]>float(yuanDist[\"mean\"]) else 0\n",
    "\n",
    "yuanTrain[[\"distance\",\"LT\",\"LTE\",\"ET\",\"GT\"]]"
   ]
  },
  {
   "cell_type": "code",
   "execution_count": 42,
   "metadata": {
    "colab": {
     "base_uri": "https://localhost:8080/"
    },
    "id": "_UVHoPuY_UtQ",
    "outputId": "64831b1c-5355-4cec-93b8-2f5e46355aa5"
   },
   "outputs": [
    {
     "name": "stdout",
     "output_type": "stream",
     "text": [
      "LT : 338 LTE : 338 ET : 0 GT : 362\n"
     ]
    }
   ],
   "source": [
    "print(\"LT :\",yuanTrain[\"LT\"].sum(),\"LTE :\",yuanTrain[\"LTE\"].sum(),\"ET :\",yuanTrain[\"ET\"].sum(),\"GT :\",yuanTrain[\"GT\"].sum())"
   ]
  },
  {
   "cell_type": "code",
   "execution_count": 67,
   "metadata": {
    "colab": {
     "base_uri": "https://localhost:8080/",
     "height": 424
    },
    "id": "8exYYQBm8Jo4",
    "outputId": "48b83233-7c46-4cee-d5b4-d9ba9d4d2513"
   },
   "outputs": [
    {
     "data": {
      "text/html": [
       "<div>\n",
       "<style scoped>\n",
       "    .dataframe tbody tr th:only-of-type {\n",
       "        vertical-align: middle;\n",
       "    }\n",
       "\n",
       "    .dataframe tbody tr th {\n",
       "        vertical-align: top;\n",
       "    }\n",
       "\n",
       "    .dataframe thead th {\n",
       "        text-align: right;\n",
       "    }\n",
       "</style>\n",
       "<table border=\"1\" class=\"dataframe\">\n",
       "  <thead>\n",
       "    <tr style=\"text-align: right;\">\n",
       "      <th></th>\n",
       "      <th>distance</th>\n",
       "      <th>LT</th>\n",
       "      <th>LTE</th>\n",
       "      <th>ET</th>\n",
       "      <th>GT</th>\n",
       "    </tr>\n",
       "  </thead>\n",
       "  <tbody>\n",
       "    <tr>\n",
       "      <th>428</th>\n",
       "      <td>1.366102</td>\n",
       "      <td>1</td>\n",
       "      <td>1</td>\n",
       "      <td>0</td>\n",
       "      <td>0</td>\n",
       "    </tr>\n",
       "    <tr>\n",
       "      <th>947</th>\n",
       "      <td>1.479027</td>\n",
       "      <td>1</td>\n",
       "      <td>1</td>\n",
       "      <td>0</td>\n",
       "      <td>0</td>\n",
       "    </tr>\n",
       "    <tr>\n",
       "      <th>398</th>\n",
       "      <td>2.099098</td>\n",
       "      <td>0</td>\n",
       "      <td>0</td>\n",
       "      <td>0</td>\n",
       "      <td>1</td>\n",
       "    </tr>\n",
       "    <tr>\n",
       "      <th>326</th>\n",
       "      <td>2.158805</td>\n",
       "      <td>0</td>\n",
       "      <td>0</td>\n",
       "      <td>0</td>\n",
       "      <td>1</td>\n",
       "    </tr>\n",
       "    <tr>\n",
       "      <th>610</th>\n",
       "      <td>1.828270</td>\n",
       "      <td>1</td>\n",
       "      <td>1</td>\n",
       "      <td>0</td>\n",
       "      <td>0</td>\n",
       "    </tr>\n",
       "    <tr>\n",
       "      <th>...</th>\n",
       "      <td>...</td>\n",
       "      <td>...</td>\n",
       "      <td>...</td>\n",
       "      <td>...</td>\n",
       "      <td>...</td>\n",
       "    </tr>\n",
       "    <tr>\n",
       "      <th>755</th>\n",
       "      <td>1.098722</td>\n",
       "      <td>1</td>\n",
       "      <td>1</td>\n",
       "      <td>0</td>\n",
       "      <td>0</td>\n",
       "    </tr>\n",
       "    <tr>\n",
       "      <th>108</th>\n",
       "      <td>2.178158</td>\n",
       "      <td>0</td>\n",
       "      <td>0</td>\n",
       "      <td>0</td>\n",
       "      <td>1</td>\n",
       "    </tr>\n",
       "    <tr>\n",
       "      <th>652</th>\n",
       "      <td>2.063760</td>\n",
       "      <td>0</td>\n",
       "      <td>0</td>\n",
       "      <td>0</td>\n",
       "      <td>1</td>\n",
       "    </tr>\n",
       "    <tr>\n",
       "      <th>282</th>\n",
       "      <td>2.042424</td>\n",
       "      <td>0</td>\n",
       "      <td>0</td>\n",
       "      <td>0</td>\n",
       "      <td>1</td>\n",
       "    </tr>\n",
       "    <tr>\n",
       "      <th>372</th>\n",
       "      <td>2.511165</td>\n",
       "      <td>0</td>\n",
       "      <td>0</td>\n",
       "      <td>0</td>\n",
       "      <td>1</td>\n",
       "    </tr>\n",
       "  </tbody>\n",
       "</table>\n",
       "<p>700 rows × 5 columns</p>\n",
       "</div>"
      ],
      "text/plain": [
       "     distance  LT  LTE  ET  GT\n",
       "428  1.366102   1    1   0   0\n",
       "947  1.479027   1    1   0   0\n",
       "398  2.099098   0    0   0   1\n",
       "326  2.158805   0    0   0   1\n",
       "610  1.828270   1    1   0   0\n",
       "..        ...  ..  ...  ..  ..\n",
       "755  1.098722   1    1   0   0\n",
       "108  2.178158   0    0   0   1\n",
       "652  2.063760   0    0   0   1\n",
       "282  2.042424   0    0   0   1\n",
       "372  2.511165   0    0   0   1\n",
       "\n",
       "[700 rows x 5 columns]"
      ]
     },
     "execution_count": 67,
     "metadata": {},
     "output_type": "execute_result"
    }
   ],
   "source": [
    "xiaTrain[\"LT\"] = 0\n",
    "xiaTrain[\"LTE\"] = 0\n",
    "xiaTrain[\"ET\"] = 0\n",
    "xiaTrain[\"GT\"] = 0\n",
    "\n",
    "for index,row in xiaTrain.iterrows():\n",
    "  xiaTrain.at[index,\"LT\"] = 1 if row[\"distance\"]<float(xiaDist[\"mean\"]) else 0\n",
    "  xiaTrain.at[index,\"LTE\"] = 1 if row[\"distance\"]<=float(xiaDist[\"mean\"]) else 0\n",
    "  xiaTrain.at[index,\"ET\"] = 1 if row[\"distance\"]==float(xiaDist[\"mean\"]) else 0\n",
    "  xiaTrain.at[index,\"GT\"] = 1 if row[\"distance\"]>float(xiaDist[\"mean\"]) else 0\n",
    "  \n",
    "xiaTrain[[\"distance\",\"LT\",\"LTE\",\"ET\",\"GT\"]]"
   ]
  },
  {
   "cell_type": "code",
   "execution_count": 44,
   "metadata": {
    "colab": {
     "base_uri": "https://localhost:8080/"
    },
    "id": "_3cwwo5cARl6",
    "outputId": "225d0d02-6b4b-4d35-974a-415e34f4a058"
   },
   "outputs": [
    {
     "name": "stdout",
     "output_type": "stream",
     "text": [
      "LT : 333 LTE : 333 ET : 0 GT : 367\n"
     ]
    }
   ],
   "source": [
    "print(\"LT :\",xiaTrain[\"LT\"].sum(),\"LTE :\",xiaTrain[\"LTE\"].sum(),\"ET :\",xiaTrain[\"ET\"].sum(),\"GT :\",xiaTrain[\"GT\"].sum())"
   ]
  },
  {
   "cell_type": "markdown",
   "metadata": {
    "id": "HTAYSH715wtG"
   },
   "source": [
    "# Part IX - Classification"
   ]
  },
  {
   "cell_type": "code",
   "execution_count": 45,
   "metadata": {
    "id": "zm4wtjAVE4ES"
   },
   "outputs": [],
   "source": [
    "from sklearn.utils import shuffle"
   ]
  },
  {
   "cell_type": "code",
   "execution_count": 46,
   "metadata": {
    "id": "QrrD2OOTEfbe"
   },
   "outputs": [],
   "source": [
    "yuanTest[\"classType\"] = \"Yuan\"\n",
    "xiaTest[\"classType\"] = \"Xia\""
   ]
  },
  {
   "cell_type": "code",
   "execution_count": 47,
   "metadata": {
    "colab": {
     "base_uri": "https://localhost:8080/",
     "height": 206
    },
    "id": "ODnqz9kvEnkD",
    "outputId": "059b12ba-067a-4dc4-a2a7-9dd821688f5b"
   },
   "outputs": [
    {
     "data": {
      "text/html": [
       "<div>\n",
       "<style scoped>\n",
       "    .dataframe tbody tr th:only-of-type {\n",
       "        vertical-align: middle;\n",
       "    }\n",
       "\n",
       "    .dataframe tbody tr th {\n",
       "        vertical-align: top;\n",
       "    }\n",
       "\n",
       "    .dataframe thead th {\n",
       "        text-align: right;\n",
       "    }\n",
       "</style>\n",
       "<table border=\"1\" class=\"dataframe\">\n",
       "  <thead>\n",
       "    <tr style=\"text-align: right;\">\n",
       "      <th></th>\n",
       "      <th>length</th>\n",
       "      <th>beam</th>\n",
       "      <th>draft</th>\n",
       "      <th>pressure</th>\n",
       "      <th>vortex</th>\n",
       "      <th>magnetic</th>\n",
       "      <th>light</th>\n",
       "      <th>classType</th>\n",
       "    </tr>\n",
       "  </thead>\n",
       "  <tbody>\n",
       "    <tr>\n",
       "      <th>0</th>\n",
       "      <td>-0.396441</td>\n",
       "      <td>0.931539</td>\n",
       "      <td>0.443250</td>\n",
       "      <td>-0.826326</td>\n",
       "      <td>-1.167025</td>\n",
       "      <td>-0.771262</td>\n",
       "      <td>-1.015086</td>\n",
       "      <td>Yuan</td>\n",
       "    </tr>\n",
       "    <tr>\n",
       "      <th>1</th>\n",
       "      <td>-0.506689</td>\n",
       "      <td>-0.200951</td>\n",
       "      <td>0.018549</td>\n",
       "      <td>-0.924938</td>\n",
       "      <td>-1.134390</td>\n",
       "      <td>-0.971208</td>\n",
       "      <td>-1.023839</td>\n",
       "      <td>Yuan</td>\n",
       "    </tr>\n",
       "    <tr>\n",
       "      <th>2</th>\n",
       "      <td>-0.238983</td>\n",
       "      <td>-0.463843</td>\n",
       "      <td>-1.421077</td>\n",
       "      <td>-1.060083</td>\n",
       "      <td>-1.268703</td>\n",
       "      <td>-0.932755</td>\n",
       "      <td>-0.990782</td>\n",
       "      <td>Yuan</td>\n",
       "    </tr>\n",
       "    <tr>\n",
       "      <th>3</th>\n",
       "      <td>-0.229728</td>\n",
       "      <td>-0.203662</td>\n",
       "      <td>-1.256300</td>\n",
       "      <td>-1.236132</td>\n",
       "      <td>-1.124329</td>\n",
       "      <td>-0.781484</td>\n",
       "      <td>-0.994121</td>\n",
       "      <td>Yuan</td>\n",
       "    </tr>\n",
       "    <tr>\n",
       "      <th>4</th>\n",
       "      <td>-0.443380</td>\n",
       "      <td>-0.761606</td>\n",
       "      <td>0.129330</td>\n",
       "      <td>-1.046645</td>\n",
       "      <td>-0.593980</td>\n",
       "      <td>-1.151178</td>\n",
       "      <td>-0.964733</td>\n",
       "      <td>Yuan</td>\n",
       "    </tr>\n",
       "  </tbody>\n",
       "</table>\n",
       "</div>"
      ],
      "text/plain": [
       "     length      beam     draft  pressure    vortex  magnetic     light  \\\n",
       "0 -0.396441  0.931539  0.443250 -0.826326 -1.167025 -0.771262 -1.015086   \n",
       "1 -0.506689 -0.200951  0.018549 -0.924938 -1.134390 -0.971208 -1.023839   \n",
       "2 -0.238983 -0.463843 -1.421077 -1.060083 -1.268703 -0.932755 -0.990782   \n",
       "3 -0.229728 -0.203662 -1.256300 -1.236132 -1.124329 -0.781484 -0.994121   \n",
       "4 -0.443380 -0.761606  0.129330 -1.046645 -0.593980 -1.151178 -0.964733   \n",
       "\n",
       "  classType  \n",
       "0      Yuan  \n",
       "1      Yuan  \n",
       "2      Yuan  \n",
       "3      Yuan  \n",
       "4      Yuan  "
      ]
     },
     "execution_count": 47,
     "metadata": {},
     "output_type": "execute_result"
    }
   ],
   "source": [
    "testData = pd.concat([yuanTest,xiaTest],ignore_index=True)\n",
    "testData.head()"
   ]
  },
  {
   "cell_type": "code",
   "execution_count": 48,
   "metadata": {
    "colab": {
     "base_uri": "https://localhost:8080/",
     "height": 206
    },
    "id": "tAvkl18BFAT3",
    "outputId": "d8eee7f6-03c4-422b-9cfa-68e7ec72dfae"
   },
   "outputs": [
    {
     "data": {
      "text/html": [
       "<div>\n",
       "<style scoped>\n",
       "    .dataframe tbody tr th:only-of-type {\n",
       "        vertical-align: middle;\n",
       "    }\n",
       "\n",
       "    .dataframe tbody tr th {\n",
       "        vertical-align: top;\n",
       "    }\n",
       "\n",
       "    .dataframe thead th {\n",
       "        text-align: right;\n",
       "    }\n",
       "</style>\n",
       "<table border=\"1\" class=\"dataframe\">\n",
       "  <thead>\n",
       "    <tr style=\"text-align: right;\">\n",
       "      <th></th>\n",
       "      <th>length</th>\n",
       "      <th>beam</th>\n",
       "      <th>draft</th>\n",
       "      <th>pressure</th>\n",
       "      <th>vortex</th>\n",
       "      <th>magnetic</th>\n",
       "      <th>light</th>\n",
       "      <th>classType</th>\n",
       "    </tr>\n",
       "  </thead>\n",
       "  <tbody>\n",
       "    <tr>\n",
       "      <th>580</th>\n",
       "      <td>0.318367</td>\n",
       "      <td>-0.854277</td>\n",
       "      <td>-0.319213</td>\n",
       "      <td>1.338085</td>\n",
       "      <td>1.472614</td>\n",
       "      <td>0.718942</td>\n",
       "      <td>0.999529</td>\n",
       "      <td>Xia</td>\n",
       "    </tr>\n",
       "    <tr>\n",
       "      <th>491</th>\n",
       "      <td>-0.553264</td>\n",
       "      <td>0.520727</td>\n",
       "      <td>1.253430</td>\n",
       "      <td>0.660512</td>\n",
       "      <td>1.346276</td>\n",
       "      <td>0.751876</td>\n",
       "      <td>1.058757</td>\n",
       "      <td>Xia</td>\n",
       "    </tr>\n",
       "    <tr>\n",
       "      <th>598</th>\n",
       "      <td>1.743475</td>\n",
       "      <td>0.284319</td>\n",
       "      <td>1.282528</td>\n",
       "      <td>1.164684</td>\n",
       "      <td>0.144732</td>\n",
       "      <td>1.070626</td>\n",
       "      <td>0.853659</td>\n",
       "      <td>Xia</td>\n",
       "    </tr>\n",
       "    <tr>\n",
       "      <th>577</th>\n",
       "      <td>0.298167</td>\n",
       "      <td>0.536194</td>\n",
       "      <td>1.417070</td>\n",
       "      <td>0.894135</td>\n",
       "      <td>1.484481</td>\n",
       "      <td>0.802115</td>\n",
       "      <td>1.092614</td>\n",
       "      <td>Xia</td>\n",
       "    </tr>\n",
       "    <tr>\n",
       "      <th>479</th>\n",
       "      <td>1.099699</td>\n",
       "      <td>1.837281</td>\n",
       "      <td>0.607996</td>\n",
       "      <td>0.940397</td>\n",
       "      <td>1.326620</td>\n",
       "      <td>1.005142</td>\n",
       "      <td>1.031064</td>\n",
       "      <td>Xia</td>\n",
       "    </tr>\n",
       "  </tbody>\n",
       "</table>\n",
       "</div>"
      ],
      "text/plain": [
       "       length      beam     draft  pressure    vortex  magnetic     light  \\\n",
       "580  0.318367 -0.854277 -0.319213  1.338085  1.472614  0.718942  0.999529   \n",
       "491 -0.553264  0.520727  1.253430  0.660512  1.346276  0.751876  1.058757   \n",
       "598  1.743475  0.284319  1.282528  1.164684  0.144732  1.070626  0.853659   \n",
       "577  0.298167  0.536194  1.417070  0.894135  1.484481  0.802115  1.092614   \n",
       "479  1.099699  1.837281  0.607996  0.940397  1.326620  1.005142  1.031064   \n",
       "\n",
       "    classType  \n",
       "580       Xia  \n",
       "491       Xia  \n",
       "598       Xia  \n",
       "577       Xia  \n",
       "479       Xia  "
      ]
     },
     "execution_count": 48,
     "metadata": {},
     "output_type": "execute_result"
    }
   ],
   "source": [
    "sTestData = shuffle(testData)\n",
    "sTestData.head()"
   ]
  },
  {
   "cell_type": "code",
   "execution_count": 49,
   "metadata": {
    "id": "l_P4j3FDFGI3"
   },
   "outputs": [],
   "source": [
    "y = sTestData.pop(\"classType\").values\n",
    "x = sTestData.values"
   ]
  },
  {
   "cell_type": "code",
   "execution_count": 50,
   "metadata": {
    "id": "oTE88__8FecE"
   },
   "outputs": [],
   "source": [
    "def dMean(a,b):\n",
    "  sum = 0\n",
    "  \n",
    "  for i in range(len(a)):\n",
    "    sum +=(a[i]-b[i])**2\n",
    "  d = math.sqrt(sum)\n",
    " \n",
    "  return d\n"
   ]
  },
  {
   "cell_type": "code",
   "execution_count": 51,
   "metadata": {
    "id": "q7Zjy5gtFUbw"
   },
   "outputs": [],
   "source": [
    "predict = []\n",
    "for input,output in zip(x,y):\n",
    "\n",
    "  d1 = dMean(input,yuanMeanVector)\n",
    "  d2 = dMean(input,xiaMeanVector)\n",
    "  \n",
    "  \n",
    "\n",
    "  if (d1-float(yuanDist[\"mean\"]))<(d2-float(xiaDist[\"mean\"])):\n",
    "    predict.append(\"Yuan\")\n",
    "  else:\n",
    "    predict.append(\"Xia\")\n",
    "  \n",
    "\n",
    "  "
   ]
  },
  {
   "cell_type": "markdown",
   "metadata": {
    "id": "OxIgHnja5ypc"
   },
   "source": [
    "# Part X - Classifier Evaluation"
   ]
  },
  {
   "cell_type": "code",
   "execution_count": 56,
   "metadata": {
    "id": "Q7UoGhXVP8gz"
   },
   "outputs": [],
   "source": [
    "from sklearn.metrics import classification_report,confusion_matrix, ConfusionMatrixDisplay,accuracy_score"
   ]
  },
  {
   "cell_type": "code",
   "execution_count": 57,
   "metadata": {
    "colab": {
     "base_uri": "https://localhost:8080/"
    },
    "id": "gUF6YrNmQG8e",
    "outputId": "7dedc078-e14e-4868-e44b-d26ca464fd88"
   },
   "outputs": [
    {
     "name": "stdout",
     "output_type": "stream",
     "text": [
      "              precision    recall  f1-score   support\n",
      "\n",
      "         Xia       1.00      1.00      1.00       300\n",
      "        Yuan       1.00      1.00      1.00       300\n",
      "\n",
      "    accuracy                           1.00       600\n",
      "   macro avg       1.00      1.00      1.00       600\n",
      "weighted avg       1.00      1.00      1.00       600\n",
      "\n"
     ]
    }
   ],
   "source": [
    "print(classification_report(y,predict))"
   ]
  },
  {
   "cell_type": "code",
   "execution_count": 68,
   "metadata": {
    "id": "zMqn7G6mQCFh"
   },
   "outputs": [],
   "source": [
    "cm = confusion_matrix(predict,y)"
   ]
  },
  {
   "cell_type": "code",
   "execution_count": 69,
   "metadata": {
    "colab": {
     "base_uri": "https://localhost:8080/",
     "height": 300
    },
    "id": "ck4etlmbQa2N",
    "outputId": "d1924836-22fb-4c75-eaf7-774392a31e01"
   },
   "outputs": [
    {
     "data": {
      "text/plain": [
       "<sklearn.metrics._plot.confusion_matrix.ConfusionMatrixDisplay at 0x7f9c28324c40>"
      ]
     },
     "execution_count": 69,
     "metadata": {},
     "output_type": "execute_result"
    },
    {
     "data": {
      "image/png": "[encoded data removed]",
      "text/plain": [
       "<Figure size 432x288 with 2 Axes>"
      ]
     },
     "metadata": {
      "needs_background": "light"
     },
     "output_type": "display_data"
    }
   ],
   "source": [
    "cmd = ConfusionMatrixDisplay(cm)\n",
    "cmd.plot()"
   ]
  },
  {
   "cell_type": "code",
   "execution_count": null,
   "metadata": {},
   "outputs": [],
   "source": []
  }
 ],
 "metadata": {
  "colab": {
   "provenance": []
  },
  "kernelspec": {
   "display_name": "Python 3 (ipykernel)",
   "language": "python",
   "name": "python3"
  },
  "language_info": {
   "codemirror_mode": {
    "name": "ipython",
    "version": 3
   },
   "file_extension": ".py",
   "mimetype": "text/x-python",
   "name": "python",
   "nbconvert_exporter": "python",
   "pygments_lexer": "ipython3",
   "version": "3.9.12"
  }
 },
 "nbformat": 4,
 "nbformat_minor": 4
}
